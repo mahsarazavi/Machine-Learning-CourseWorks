{
  "nbformat": 4,
  "nbformat_minor": 0,
  "metadata": {
    "colab": {
      "name": "HW5-Task4",
      "provenance": [],
      "collapsed_sections": []
    },
    "kernelspec": {
      "name": "python3",
      "display_name": "Python 3"
    }
  },
  "cells": [
    {
      "cell_type": "code",
      "metadata": {
        "id": "m7B98fLHBBjZ",
        "colab_type": "code",
        "colab": {}
      },
      "source": [
        "import numpy as np \n",
        "import pandas as pd "
      ],
      "execution_count": 0,
      "outputs": []
    },
    {
      "cell_type": "markdown",
      "metadata": {
        "id": "jpzXC5neBR45",
        "colab_type": "text"
      },
      "source": [
        "Reading data from csv file"
      ]
    },
    {
      "cell_type": "code",
      "metadata": {
        "id": "zf64dTyT-s9A",
        "colab_type": "code",
        "colab": {}
      },
      "source": [
        "train = pd.read_csv(\"train.csv\")\n",
        "test = pd.read_csv(\"test.csv\")\n",
        "test_labels = pd.read_csv(\"gender_submission.csv\")\n",
        "targets = test_labels['Survived']\n",
        "\n",
        "test['Survived'] = targets"
      ],
      "execution_count": 0,
      "outputs": []
    },
    {
      "cell_type": "code",
      "metadata": {
        "id": "RDPg1oDiFSDD",
        "colab_type": "code",
        "outputId": "edfaa30e-a77b-4b30-d4df-7ddc1117c620",
        "colab": {
          "base_uri": "https://localhost:8080/",
          "height": 275
        }
      },
      "source": [
        "# Total missing values for each feature in train\n",
        "print(train.isnull().sum())\n",
        "print(len(train))\n"
      ],
      "execution_count": 16,
      "outputs": [
        {
          "output_type": "stream",
          "text": [
            "PassengerId      0\n",
            "Survived         0\n",
            "Pclass           0\n",
            "Name             0\n",
            "Sex              0\n",
            "Age            177\n",
            "SibSp            0\n",
            "Parch            0\n",
            "Ticket           0\n",
            "Fare             0\n",
            "Cabin          687\n",
            "Embarked         2\n",
            "dtype: int64\n",
            "891\n"
          ],
          "name": "stdout"
        }
      ]
    },
    {
      "cell_type": "code",
      "metadata": {
        "id": "MIxZ9QULboIi",
        "colab_type": "code",
        "outputId": "a524a8f0-9bb3-4a83-d0b6-a9688be3fd51",
        "colab": {
          "base_uri": "https://localhost:8080/",
          "height": 275
        }
      },
      "source": [
        "# Total missing values for each feature in test\n",
        "print(test.isnull().sum())\n",
        "print(len(test))"
      ],
      "execution_count": 17,
      "outputs": [
        {
          "output_type": "stream",
          "text": [
            "PassengerId      0\n",
            "Pclass           0\n",
            "Name             0\n",
            "Sex              0\n",
            "Age             86\n",
            "SibSp            0\n",
            "Parch            0\n",
            "Ticket           0\n",
            "Fare             1\n",
            "Cabin          327\n",
            "Embarked         0\n",
            "Survived         0\n",
            "dtype: int64\n",
            "418\n"
          ],
          "name": "stdout"
        }
      ]
    },
    {
      "cell_type": "markdown",
      "metadata": {
        "id": "TH9xQcGSCrge",
        "colab_type": "text"
      },
      "source": [
        "a) Delete data with missing values"
      ]
    },
    {
      "cell_type": "code",
      "metadata": {
        "id": "J1uG26QMEOkG",
        "colab_type": "code",
        "colab": {}
      },
      "source": [
        "new_train = train.dropna()\n",
        "\n",
        "new_test = test.dropna()\n",
        "\n",
        "labels = new_train['Survived']\n",
        "test_labels = new_test['Survived']\n",
        "\n",
        "#Remove labels and non important features for classification\n",
        "x = new_train.drop(columns=['Survived', 'Name', 'SibSp', 'Ticket', 'Cabin'])\n",
        "x_test = new_test.drop(columns=['Survived', 'Name', 'SibSp', 'Ticket', 'Cabin'])\n"
      ],
      "execution_count": 0,
      "outputs": []
    },
    {
      "cell_type": "code",
      "metadata": {
        "id": "37r19xj_Hvop",
        "colab_type": "code",
        "outputId": "850974d9-0038-40ed-9ebe-4c0176fae7bb",
        "colab": {
          "base_uri": "https://localhost:8080/",
          "height": 54
        }
      },
      "source": [
        "# Check if any missing values remains\n",
        "print(x.isnull().values.any())\n",
        "print(x_test.isnull().values.any())"
      ],
      "execution_count": 19,
      "outputs": [
        {
          "output_type": "stream",
          "text": [
            "False\n",
            "False\n"
          ],
          "name": "stdout"
        }
      ]
    },
    {
      "cell_type": "markdown",
      "metadata": {
        "id": "MRwb7636UY_M",
        "colab_type": "text"
      },
      "source": [
        "Data preprocessing"
      ]
    },
    {
      "cell_type": "code",
      "metadata": {
        "id": "eCa_EUBtUdmH",
        "colab_type": "code",
        "colab": {}
      },
      "source": [
        "x['Sex'] = x['Sex'].map({'male': 1, 'female': 0})\n",
        "x['Embarked'] = x['Embarked'].map({'Q': 2, 'S': 1, 'C': 0})\n",
        "\n",
        "\n",
        "x_test['Sex'] = x_test['Sex'].map({'male': 1, 'female': 0})\n",
        "x_test['Embarked'] = x_test['Embarked'].map({'Q': 2, 'S': 1, 'C': 0})\n"
      ],
      "execution_count": 0,
      "outputs": []
    },
    {
      "cell_type": "code",
      "metadata": {
        "id": "XMatH_dIJ2Y4",
        "colab_type": "code",
        "outputId": "4d2de8a9-b9c8-4d2f-aae6-e05fabd338fc",
        "colab": {
          "base_uri": "https://localhost:8080/",
          "height": 91
        }
      },
      "source": [
        "from sklearn import svm\n",
        "\n",
        "c = svm.SVC()\n",
        "c.fit(x, labels)\n"
      ],
      "execution_count": 21,
      "outputs": [
        {
          "output_type": "execute_result",
          "data": {
            "text/plain": [
              "SVC(C=1.0, break_ties=False, cache_size=200, class_weight=None, coef0=0.0,\n",
              "    decision_function_shape='ovr', degree=3, gamma='scale', kernel='rbf',\n",
              "    max_iter=-1, probability=False, random_state=None, shrinking=True,\n",
              "    tol=0.001, verbose=False)"
            ]
          },
          "metadata": {
            "tags": []
          },
          "execution_count": 21
        }
      ]
    },
    {
      "cell_type": "code",
      "metadata": {
        "id": "MAt2rzgndLE_",
        "colab_type": "code",
        "outputId": "a174b789-3736-43d9-af61-a51680e9b164",
        "colab": {
          "base_uri": "https://localhost:8080/",
          "height": 35
        }
      },
      "source": [
        "preds = c.predict(x_test)\n",
        "print(accuracy_score(test_labels, preds))"
      ],
      "execution_count": 22,
      "outputs": [
        {
          "output_type": "stream",
          "text": [
            "0.5057471264367817\n"
          ],
          "name": "stdout"
        }
      ]
    },
    {
      "cell_type": "markdown",
      "metadata": {
        "id": "bNYsw7hM5jnH",
        "colab_type": "text"
      },
      "source": [
        "b) Estimate missing values"
      ]
    },
    {
      "cell_type": "code",
      "metadata": {
        "id": "km1EVL6h6ati",
        "colab_type": "code",
        "colab": {}
      },
      "source": [
        "train = pd.read_csv(\"train.csv\")\n",
        "test = pd.read_csv(\"test.csv\")\n",
        "test_labels = pd.read_csv(\"gender_submission.csv\")\n",
        "targets = test_labels['Survived']\n",
        "\n",
        "test['Survived'] = targets"
      ],
      "execution_count": 0,
      "outputs": []
    },
    {
      "cell_type": "code",
      "metadata": {
        "id": "tyOWVCpj6klZ",
        "colab_type": "code",
        "outputId": "7c9dc6ec-f6de-468f-c702-99f07636a264",
        "colab": {
          "base_uri": "https://localhost:8080/",
          "height": 275
        }
      },
      "source": [
        "# Total missing values for each feature in train\n",
        "print(train.isnull().sum())\n",
        "print(len(train))\n"
      ],
      "execution_count": 42,
      "outputs": [
        {
          "output_type": "stream",
          "text": [
            "PassengerId      0\n",
            "Survived         0\n",
            "Pclass           0\n",
            "Name             0\n",
            "Sex              0\n",
            "Age            177\n",
            "SibSp            0\n",
            "Parch            0\n",
            "Ticket           0\n",
            "Fare             0\n",
            "Cabin          687\n",
            "Embarked         2\n",
            "dtype: int64\n",
            "891\n"
          ],
          "name": "stdout"
        }
      ]
    },
    {
      "cell_type": "code",
      "metadata": {
        "id": "vlOnP1sl69Oj",
        "colab_type": "code",
        "outputId": "40c906d9-bf83-4e52-8aa8-2005493d1c91",
        "colab": {
          "base_uri": "https://localhost:8080/",
          "height": 275
        }
      },
      "source": [
        "# Total missing values for each feature in test\n",
        "print(test.isnull().sum())\n",
        "print(len(test))"
      ],
      "execution_count": 43,
      "outputs": [
        {
          "output_type": "stream",
          "text": [
            "PassengerId      0\n",
            "Pclass           0\n",
            "Name             0\n",
            "Sex              0\n",
            "Age             86\n",
            "SibSp            0\n",
            "Parch            0\n",
            "Ticket           0\n",
            "Fare             1\n",
            "Cabin          327\n",
            "Embarked         0\n",
            "Survived         0\n",
            "dtype: int64\n",
            "418\n"
          ],
          "name": "stdout"
        }
      ]
    },
    {
      "cell_type": "code",
      "metadata": {
        "id": "F0izQXBt7ejp",
        "colab_type": "code",
        "outputId": "45c3b26b-bef6-4868-e477-effbba9d465e",
        "colab": {
          "base_uri": "https://localhost:8080/",
          "height": 239
        }
      },
      "source": [
        "age_avg = train['Age'].mean()\n",
        "train['Age'][np.isnan(train['Age'])] = age_avg\n",
        "\n",
        "age_avg_test = test['Age'].mean()\n",
        "test['Age'][np.isnan(test['Age'])] = age_avg_test\n",
        "\n",
        "print(age_avg, age_avg_test)"
      ],
      "execution_count": 4,
      "outputs": [
        {
          "output_type": "stream",
          "text": [
            "29.69911764705882 30.272590361445783\n"
          ],
          "name": "stdout"
        },
        {
          "output_type": "stream",
          "text": [
            "/usr/local/lib/python3.6/dist-packages/ipykernel_launcher.py:2: SettingWithCopyWarning: \n",
            "A value is trying to be set on a copy of a slice from a DataFrame\n",
            "\n",
            "See the caveats in the documentation: https://pandas.pydata.org/pandas-docs/stable/user_guide/indexing.html#returning-a-view-versus-a-copy\n",
            "  \n",
            "/usr/local/lib/python3.6/dist-packages/ipykernel_launcher.py:5: SettingWithCopyWarning: \n",
            "A value is trying to be set on a copy of a slice from a DataFrame\n",
            "\n",
            "See the caveats in the documentation: https://pandas.pydata.org/pandas-docs/stable/user_guide/indexing.html#returning-a-view-versus-a-copy\n",
            "  \"\"\"\n"
          ],
          "name": "stderr"
        }
      ]
    },
    {
      "cell_type": "markdown",
      "metadata": {
        "id": "cxaNz-hoPwy8",
        "colab_type": "text"
      },
      "source": [
        "Embarked feature also has some missing values, so we can fill them with the most fequent value of Embarked which is S"
      ]
    },
    {
      "cell_type": "code",
      "metadata": {
        "id": "J8pJhdTxPx0I",
        "colab_type": "code",
        "outputId": "32c3873b-df56-4e6d-f623-e28a633325dd",
        "colab": {
          "base_uri": "https://localhost:8080/",
          "height": 109
        }
      },
      "source": [
        "print(train.groupby(['Embarked'])['PassengerId'].count())\n",
        "\n",
        "train[\"Embarked\"] = train[\"Embarked\"].fillna(\"S\")"
      ],
      "execution_count": 5,
      "outputs": [
        {
          "output_type": "stream",
          "text": [
            "Embarked\n",
            "C    168\n",
            "Q     77\n",
            "S    644\n",
            "Name: PassengerId, dtype: int64\n"
          ],
          "name": "stdout"
        }
      ]
    },
    {
      "cell_type": "code",
      "metadata": {
        "id": "KNKB-C2dQp2R",
        "colab_type": "code",
        "colab": {}
      },
      "source": [
        "test[\"Fare\"] = test[\"Fare\"].fillna(test[\"Fare\"].median())"
      ],
      "execution_count": 0,
      "outputs": []
    },
    {
      "cell_type": "code",
      "metadata": {
        "id": "__0DY67BNxUY",
        "colab_type": "code",
        "colab": {
          "base_uri": "https://localhost:8080/",
          "height": 256
        },
        "outputId": "e92faca2-6652-4a39-e335-c6d38e662e1a"
      },
      "source": [
        "print(train.groupby(['Cabin'])['PassengerId'].count())\n",
        "\n",
        "# train[\"Embarked\"] = train[\"Embarked\"].fillna(\"S\")"
      ],
      "execution_count": 53,
      "outputs": [
        {
          "output_type": "stream",
          "text": [
            "Cabin\n",
            "A10    1\n",
            "A14    1\n",
            "A16    1\n",
            "A19    1\n",
            "A20    1\n",
            "      ..\n",
            "F33    3\n",
            "F38    1\n",
            "F4     2\n",
            "G6     4\n",
            "T      1\n",
            "Name: PassengerId, Length: 147, dtype: int64\n"
          ],
          "name": "stdout"
        }
      ]
    },
    {
      "cell_type": "code",
      "metadata": {
        "id": "DnrCbikcrZrL",
        "colab_type": "code",
        "colab": {}
      },
      "source": [
        "import re\n",
        "\n",
        "train['Cabin'] = train['Cabin'].fillna(\"D\")\n",
        "train['tmp'] = train['Cabin'].map(lambda x: re.compile(\"([a-zA-Z]+)\").search(x).group())\n",
        "train['tmp'] = train['tmp'].map({\"A\": 1, \"B\": 2, \"C\": 3, \"D\": 4, \"E\": 5, \"F\": 6, \"G\": 7, \"U\": 8})\n",
        "train['tmp'] = train['tmp'].fillna(4)\n",
        "\n",
        "\n",
        "train = train.drop(['Cabin'], axis=1)\n",
        "\n",
        "test['Cabin'] = test['Cabin'].fillna(\"D\")\n",
        "test['tmp'] = test['Cabin'].map(lambda x: re.compile(\"([a-zA-Z]+)\").search(x).group())\n",
        "test['tmp'] = test['tmp'].map({\"A\": 1, \"B\": 2, \"C\": 3, \"D\": 4, \"E\": 5, \"F\": 6, \"G\": 7, \"U\": 8})\n",
        "test['tmp'] = test['tmp'].fillna(4)\n",
        "\n",
        "\n",
        "test = test.drop(['Cabin'], axis=1)\n",
        "\n"
      ],
      "execution_count": 0,
      "outputs": []
    },
    {
      "cell_type": "code",
      "metadata": {
        "id": "BLhLl-8i8ikW",
        "colab_type": "code",
        "outputId": "76400bec-e3ab-4f7c-beca-abc47a81ed22",
        "colab": {
          "base_uri": "https://localhost:8080/",
          "height": 495
        }
      },
      "source": [
        "# No missing values remain\n",
        "\n",
        "print(test.isnull().sum())\n",
        "print(train.isnull().sum())"
      ],
      "execution_count": 36,
      "outputs": [
        {
          "output_type": "stream",
          "text": [
            "PassengerId    0\n",
            "Pclass         0\n",
            "Name           0\n",
            "Sex            0\n",
            "Age            0\n",
            "SibSp          0\n",
            "Parch          0\n",
            "Ticket         0\n",
            "Fare           0\n",
            "Embarked       0\n",
            "Survived       0\n",
            "tmp            0\n",
            "dtype: int64\n",
            "PassengerId    0\n",
            "Survived       0\n",
            "Pclass         0\n",
            "Name           0\n",
            "Sex            0\n",
            "Age            0\n",
            "SibSp          0\n",
            "Parch          0\n",
            "Ticket         0\n",
            "Fare           0\n",
            "Embarked       0\n",
            "tmp            0\n",
            "dtype: int64\n"
          ],
          "name": "stdout"
        }
      ]
    },
    {
      "cell_type": "markdown",
      "metadata": {
        "id": "MSrFGDly41M5",
        "colab_type": "text"
      },
      "source": [
        "Data preprocessing"
      ]
    },
    {
      "cell_type": "code",
      "metadata": {
        "id": "Dxw6U7oE44sm",
        "colab_type": "code",
        "colab": {}
      },
      "source": [
        "labels = train['Survived']\n",
        "test_labels = test['Survived']\n",
        "\n",
        "#Remove labels and non important features for classification\n",
        "x = train.drop(columns=['Survived', 'Name', 'SibSp', 'Ticket'])\n",
        "x_test = test.drop(columns=['Survived', 'Name', 'SibSp', 'Ticket'])\n",
        "\n",
        "\n",
        "x['Sex'] = x['Sex'].map({'male': 1, 'female': 0})\n",
        "x['Embarked'] = x['Embarked'].map({'Q': 2, 'S': 1, 'C': 0})\n",
        "\n",
        "\n",
        "x_test['Sex'] = x_test['Sex'].map({'male': 1, 'female': 0})\n",
        "x_test['Embarked'] = x_test['Embarked'].map({'Q': 2, 'S': 1, 'C': 0})\n"
      ],
      "execution_count": 0,
      "outputs": []
    },
    {
      "cell_type": "code",
      "metadata": {
        "id": "4xbCxAtc5Tyu",
        "colab_type": "code",
        "colab": {
          "base_uri": "https://localhost:8080/",
          "height": 91
        },
        "outputId": "45274f62-9cb7-4f50-b6d3-b5e6b8b91adf"
      },
      "source": [
        "from sklearn import svm\n",
        "\n",
        "c = svm.SVC()\n",
        "c.fit(x, labels)\n"
      ],
      "execution_count": 9,
      "outputs": [
        {
          "output_type": "execute_result",
          "data": {
            "text/plain": [
              "SVC(C=1.0, break_ties=False, cache_size=200, class_weight=None, coef0=0.0,\n",
              "    decision_function_shape='ovr', degree=3, gamma='scale', kernel='rbf',\n",
              "    max_iter=-1, probability=False, random_state=None, shrinking=True,\n",
              "    tol=0.001, verbose=False)"
            ]
          },
          "metadata": {
            "tags": []
          },
          "execution_count": 9
        }
      ]
    },
    {
      "cell_type": "code",
      "metadata": {
        "id": "vqmyEF4l5Xjm",
        "colab_type": "code",
        "colab": {
          "base_uri": "https://localhost:8080/",
          "height": 35
        },
        "outputId": "e729495b-b69f-4510-c937-f53958b80319"
      },
      "source": [
        "from sklearn.metrics import accuracy_score\n",
        "\n",
        "preds = c.predict(x_test)\n",
        "print(accuracy_score(test_labels, preds))\n"
      ],
      "execution_count": 10,
      "outputs": [
        {
          "output_type": "stream",
          "text": [
            "0.6483253588516746\n"
          ],
          "name": "stdout"
        }
      ]
    }
  ]
}