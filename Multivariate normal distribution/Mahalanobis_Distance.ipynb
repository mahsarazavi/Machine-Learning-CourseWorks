{
  "nbformat": 4,
  "nbformat_minor": 0,
  "metadata": {
    "colab": {
      "name": "HW5-Task3",
      "provenance": [],
      "collapsed_sections": []
    },
    "kernelspec": {
      "name": "python3",
      "display_name": "Python 3"
    }
  },
  "cells": [
    {
      "cell_type": "markdown",
      "metadata": {
        "id": "_iZT2Akdp4cC",
        "colab_type": "text"
      },
      "source": [
        "Question 3-a"
      ]
    },
    {
      "cell_type": "code",
      "metadata": {
        "id": "wmjifi4BJetF",
        "colab_type": "code",
        "outputId": "0b108c81-6447-49b7-c176-3f0929abc92a",
        "colab": {
          "base_uri": "https://localhost:8080/",
          "height": 167
        }
      },
      "source": [
        "import numpy as np\n",
        "\n",
        "# The dataset\n",
        "x = np.array([[64, 29, 580],\n",
        "     [66, 33, 570],\n",
        "     [68, 37, 590],\n",
        "     [69, 46, 660],\n",
        "     [73, 55, 600]])\n",
        "\n",
        "# Compute the covariance matrix of data\n",
        "covar = np.cov(x, rowvar=False)\n",
        "\n",
        "# Inverse matrix of covariance\n",
        "inverse_cov = np.linalg.inv(covar)\n",
        "\n",
        "mahal = []\n",
        "\n",
        "X = [73, 55, 600]\n",
        "for data in x:\n",
        "  dif = np.transpose(X - data)\n",
        "  res = np.dot(np.dot(dif ,inverse_cov), dif)\n",
        "  mahal.append(np.sqrt(res))\n",
        "\n",
        "print(\"Distances between 5th person and others: \\n\", mahal)"
      ],
      "execution_count": 4,
      "outputs": [
        {
          "output_type": "stream",
          "text": [
            "[[  11.5    34.75   50.  ]\n",
            " [  34.75  110.    205.  ]\n",
            " [  50.    205.   1250.  ]]\n",
            "[[ 3.68851865e+00 -1.28214415e+00  6.27308946e-02]\n",
            " [-1.28214415e+00  4.58770977e-01 -2.39526742e-02]\n",
            " [ 6.27308946e-02 -2.39526742e-02  2.21900278e-03]]\n",
            "Distances between 5th person and others: \n",
            " [2.7231729013653028, 2.1467921763778732, 2.8179500864718516, 2.7584121116616487, 0.0]\n"
          ],
          "name": "stdout"
        }
      ]
    },
    {
      "cell_type": "markdown",
      "metadata": {
        "id": "usCMX1K9p9ag",
        "colab_type": "text"
      },
      "source": [
        "Question 3-b"
      ]
    },
    {
      "cell_type": "markdown",
      "metadata": {
        "id": "bFVK3JqzeZLu",
        "colab_type": "text"
      },
      "source": [
        "Euclidean Distance"
      ]
    },
    {
      "cell_type": "code",
      "metadata": {
        "id": "hY6rnn3IzyqB",
        "colab_type": "code",
        "outputId": "3f6c3c55-66b8-4374-a889-318802826b69",
        "colab": {
          "base_uri": "https://localhost:8080/",
          "height": 36
        }
      },
      "source": [
        "x = np.array([[64, 29, 580],\n",
        "     [66, 33, 570],\n",
        "     [68, 37, 590],\n",
        "     [69, 46, 660],\n",
        "     [73, 55, 600]])\n",
        "    \n",
        "dist = []\n",
        "\n",
        "data = [73, 55, 600]\n",
        "\n",
        "for observation in x:\n",
        "  \n",
        "  sub = [a_i - b_i for a_i, b_i in zip(observation, data)]\n",
        "  \n",
        "  power = np.power(sub, 2)\n",
        "  \n",
        "  dist.append(np.sqrt(sum(power)))\n",
        "\n",
        "print(dist)\n",
        "   "
      ],
      "execution_count": 0,
      "outputs": [
        {
          "output_type": "stream",
          "text": [
            "[34.0147027033899, 37.8549864614954, 21.18962010041709, 60.802960454241045, 0.0]\n"
          ],
          "name": "stdout"
        }
      ]
    }
  ]
}