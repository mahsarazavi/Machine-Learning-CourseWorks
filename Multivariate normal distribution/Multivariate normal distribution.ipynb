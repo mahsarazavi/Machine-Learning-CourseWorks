{
  "nbformat": 4,
  "nbformat_minor": 0,
  "metadata": {
    "colab": {
      "name": "hw5_project.ipynb",
      "provenance": [],
      "collapsed_sections": []
    },
    "kernelspec": {
      "name": "python3",
      "display_name": "Python 3"
    }
  },
  "cells": [
    {
      "cell_type": "markdown",
      "metadata": {
        "id": "nUXoMKBNL2BB",
        "colab_type": "text"
      },
      "source": [
        "\n",
        "<h3 align=\"center\">به نام خدا </h3>\n",
        "<h2 align=\"center\">تمرین سری پنجم </h2>\n",
        "\n",
        "\n",
        "<p align=\"right\">در این تمرین داده ها در سه کلاس مختلف و دارای دو ویژگی هستند می خواهیم با کمک دانسته های خود از توزیع های نرمال چند متغیره داده ها را دسته بندی کنیم</p>\n"
      ]
    },
    {
      "cell_type": "markdown",
      "metadata": {
        "id": "yDRm31mIz0Tu",
        "colab_type": "text"
      },
      "source": [
        "<p align=\"right\">دقت کنید که در این تمرین سه مجموعه داده ی آموزشی و یک مجموعه داده آزمایشی داریم. می خواهیم هر چهار حالت مختلفی که برای کوواریانس در جدول ۵٫۱ کتاب آمده است را برای این مجموعه داده پیاده سازی کنیم. یعنی برای هر مجموعه داده ۴ حالت مختلف و در کل ۱۲ حالت مختلف داریم</p>"
      ]
    },
    {
      "cell_type": "markdown",
      "metadata": {
        "id": "UzYY1KuUPu2Z",
        "colab_type": "text"
      },
      "source": [
        "# داده های ۵۰ تایی"
      ]
    },
    {
      "cell_type": "markdown",
      "metadata": {
        "id": "0v0tV8s9P4xZ",
        "colab_type": "text"
      },
      "source": [
        "<p align=\"right\">ابتدا داده ها را از فایل می خوانیم</p>"
      ]
    },
    {
      "cell_type": "code",
      "metadata": {
        "id": "3wyhQpoQQgQ0",
        "colab_type": "code",
        "colab": {}
      },
      "source": [
        "import pandas as pd\n",
        "import numpy as np\n",
        "\n",
        "train = pd.read_csv(\"train_50.csv\") \n",
        "\n",
        "labels = train['class']\n",
        "f1 = train['feature_1']\n",
        "f2 = train['feature2']"
      ],
      "execution_count": 0,
      "outputs": []
    },
    {
      "cell_type": "code",
      "metadata": {
        "id": "wHs2NkGnsGQE",
        "colab_type": "code",
        "colab": {}
      },
      "source": [
        "A = []\n",
        "B = []\n",
        "C = []\n",
        "\n",
        "for i in range(len(f1)):\n",
        "  listt = []\n",
        "  listt.append(f1[i])\n",
        "  listt.append(f2[i])\n",
        "\n",
        "  if labels[i] == 'A':\n",
        "    A.append(listt)\n",
        "  elif labels[i] == 'B':\n",
        "    B.append(listt)\n",
        "  else:\n",
        "    C.append(listt)\n",
        " "
      ],
      "execution_count": 0,
      "outputs": []
    },
    {
      "cell_type": "code",
      "metadata": {
        "id": "9JJdD-YIyYQ3",
        "colab_type": "code",
        "outputId": "9a907944-dac3-4300-a3db-56dcfed12a11",
        "colab": {
          "base_uri": "https://localhost:8080/",
          "height": 147
        }
      },
      "source": [
        "cov_A = np.cov(A, rowvar=False)\n",
        "cov_B = np.cov(B, rowvar=False)\n",
        "cov_C = np.cov(C, rowvar=False)\n",
        "\n",
        "print(cov_A, cov_B, cov_C)\n",
        "\n",
        "mean_A = [np.mean(A, axis=0)]\n",
        "mean_B = [np.mean(B, axis=0)]\n",
        "mean_C = [np.mean(C, axis=0)]\n",
        "\n",
        "print(mean_A, mean_B, mean_C)\n",
        "\n",
        "pc_A = len(A)/(len(A) + len(B) + len(C))\n",
        "pc_B = len(B)/(len(A) + len(B) + len(C))\n",
        "pc_C = len(C)/(len(A) + len(B) + len(C))\n",
        "\n",
        "print(pc_A, pc_B, pc_C)\n",
        "\n"
      ],
      "execution_count": 3,
      "outputs": [
        {
          "output_type": "stream",
          "text": [
            "[[ 81.78150034 -44.9401266 ]\n",
            " [-44.9401266  101.73979937]] [[2.82577979e+01 1.55780796e-02]\n",
            " [1.55780796e-02 3.45786294e+01]] [[132.06377012  68.35886693]\n",
            " [ 68.35886693  79.74202505]]\n",
            "[array([-10.21576233,  31.36563462])] [array([35.64136359, -4.92497525])] [array([2.71124905, 1.79400216])]\n",
            "0.3333333333333333 0.3333333333333333 0.3333333333333333\n"
          ],
          "name": "stdout"
        }
      ]
    },
    {
      "cell_type": "markdown",
      "metadata": {
        "id": "LpwNg78mMTzH",
        "colab_type": "text"
      },
      "source": [
        "<p align=\"right\">اکنون با کمک داده های موجود و چهار روشی که در جدول ۵٫۱ آمده  است داده های فایل تست را ارزیابی کنید و نتیجه را گزارش کنید</p>"
      ]
    },
    {
      "cell_type": "markdown",
      "metadata": {
        "id": "SIWNMA36Zfiz",
        "colab_type": "text"
      },
      "source": [
        "Case A"
      ]
    },
    {
      "cell_type": "code",
      "metadata": {
        "id": "FLCVZLcENvZp",
        "colab_type": "code",
        "outputId": "2f88c866-cd1f-42a8-c98e-bb11b765a9bb",
        "colab": {
          "base_uri": "https://localhost:8080/",
          "height": 35
        }
      },
      "source": [
        "import pandas as pd\n",
        "test = pd.read_csv(\"test_labels.csv\") \n",
        "\n",
        "test_labels = test['class']\n",
        "test_f1 = test['feature_1']\n",
        "test_f2 = test['feature2']\n",
        "\n",
        "test_data = []\n",
        "\n",
        "for i in range(len(test_f1)):\n",
        "\n",
        "  listt = []\n",
        "  listt.append(test_f1[i])\n",
        "  listt.append(test_f2[i])\n",
        "\n",
        "  test_data.append(listt)\n",
        "\n",
        "\n",
        "inverse_cov_A = np.linalg.inv(cov_A)\n",
        "inverse_cov_B = np.linalg.inv(cov_B)\n",
        "inverse_cov_C = np.linalg.inv(cov_C)\n",
        "\n",
        "\n",
        "final = []\n",
        "for x in test_data:\n",
        "  g = []\n",
        "  tmp_A = [a_i - b_i for a_i, b_i in zip(x, np.transpose(mean_A))]\n",
        "  tmp_B = [a_i - b_i for a_i, b_i in zip(x, np.transpose(mean_B))]\n",
        "  tmp_C = [a_i - b_i for a_i, b_i in zip(x, np.transpose(mean_C))]\n",
        "  g.append( (-0.5 * np.log(np.linalg.det(cov_A)) ) - (  0.5 * np.dot(np.dot(np.transpose(tmp_A), inverse_cov_A)  , tmp_A )  )+  np.log(pc_A) )\n",
        "  g.append( (-0.5 * np.log(np.linalg.det(cov_B)) ) - (  0.5 * np.dot(np.dot(np.transpose(tmp_B), inverse_cov_B)  , tmp_B )  )+  np.log(pc_B) )\n",
        "  g.append( (-0.5 * np.log(np.linalg.det(cov_C)) ) - (  0.5 * np.dot(np.dot(np.transpose(tmp_C), inverse_cov_C)  , tmp_C )  )+  np.log(pc_C) )\n",
        "\n",
        "  final.append(g)\n",
        "\n",
        "print(np.shape(final))\n"
      ],
      "execution_count": 4,
      "outputs": [
        {
          "output_type": "stream",
          "text": [
            "(600, 3, 1, 1)\n"
          ],
          "name": "stdout"
        }
      ]
    },
    {
      "cell_type": "code",
      "metadata": {
        "id": "5f7BmB7SRf_t",
        "colab_type": "code",
        "outputId": "f4551de7-0a50-4844-c115-5efc062e0b2a",
        "colab": {
          "base_uri": "https://localhost:8080/",
          "height": 35
        }
      },
      "source": [
        "from sklearn.metrics import accuracy_score\n",
        "\n",
        "preds = []\n",
        "y_test = []\n",
        "\n",
        "for x in final:\n",
        "  preds.append(x.index(np.max(x)))\n",
        "\n",
        "for label in test_labels:\n",
        "  if label == 'A':\n",
        "    y_test.append(0)\n",
        "  elif label == 'B':\n",
        "    y_test.append(1)\n",
        "  else:\n",
        "    y_test.append(2)\n",
        "    \n",
        "print(accuracy_score(y_test, preds))"
      ],
      "execution_count": 5,
      "outputs": [
        {
          "output_type": "stream",
          "text": [
            "0.9666666666666667\n"
          ],
          "name": "stdout"
        }
      ]
    },
    {
      "cell_type": "markdown",
      "metadata": {
        "id": "-KZzCPI2ZZcl",
        "colab_type": "text"
      },
      "source": [
        "Case B"
      ]
    },
    {
      "cell_type": "code",
      "metadata": {
        "id": "QWWjb4n0ZdfG",
        "colab_type": "code",
        "outputId": "11c25d80-892e-40f1-f806-ab8da9281332",
        "colab": {
          "base_uri": "https://localhost:8080/",
          "height": 35
        }
      },
      "source": [
        "s = np.dot(pc_A, cov_A) + np.dot(pc_B, cov_B) + np.dot(pc_C, cov_C)\n",
        "inverse_s = np.linalg.inv(s)\n",
        "\n",
        "final_B = []\n",
        "for x in test_data:\n",
        "  g = []\n",
        "  tmp_A = [a_i - b_i for a_i, b_i in zip(x, np.transpose(mean_A))]\n",
        "  tmp_B = [a_i - b_i for a_i, b_i in zip(x, np.transpose(mean_B))]\n",
        "  tmp_C = [a_i - b_i for a_i, b_i in zip(x, np.transpose(mean_C))]\n",
        "  g.append(  ( - 0.5 * np.dot(np.dot(np.transpose(tmp_A), inverse_s)  , tmp_C )  )+  np.log(pc_A) )\n",
        "  g.append(  ( - 0.5 * np.dot(np.dot(np.transpose(tmp_B), inverse_s)  , tmp_B )  )+  np.log(pc_B) )\n",
        "  g.append(  ( - 0.5 * np.dot(np.dot(np.transpose(tmp_C), inverse_s)  , tmp_C )  )+  np.log(pc_C) )\n",
        "\n",
        "  final_B.append(g)\n",
        "\n",
        "print(np.shape(final_B))"
      ],
      "execution_count": 6,
      "outputs": [
        {
          "output_type": "stream",
          "text": [
            "(600, 3, 1, 1)\n"
          ],
          "name": "stdout"
        }
      ]
    },
    {
      "cell_type": "code",
      "metadata": {
        "id": "X5EG4zq8aTQe",
        "colab_type": "code",
        "outputId": "72748cd9-bf85-42d1-bdb4-4c538144ed2d",
        "colab": {
          "base_uri": "https://localhost:8080/",
          "height": 35
        }
      },
      "source": [
        "preds_B = []\n",
        "\n",
        "for x in final_B:\n",
        "  preds_B.append(x.index(np.max(x)))\n",
        "\n",
        "print(accuracy_score(y_test, preds_B))"
      ],
      "execution_count": 7,
      "outputs": [
        {
          "output_type": "stream",
          "text": [
            "0.8516666666666667\n"
          ],
          "name": "stdout"
        }
      ]
    },
    {
      "cell_type": "markdown",
      "metadata": {
        "id": "UhSI2wZTemsE",
        "colab_type": "text"
      },
      "source": [
        "Case C:"
      ]
    },
    {
      "cell_type": "code",
      "metadata": {
        "id": "Cy2jSXZyeoMf",
        "colab_type": "code",
        "outputId": "f9d88fce-7ff0-454a-af45-bba89af79ceb",
        "colab": {
          "base_uri": "https://localhost:8080/",
          "height": 35
        }
      },
      "source": [
        "std_A = [np.std(A, axis=0)]\n",
        "std_B = [np.std(B, axis=0)]\n",
        "std_C = [np.std(C, axis=0)]\n",
        "\n",
        "final_C = []\n",
        "\n",
        "for x in test_data:\n",
        "  g = []\n",
        "  tmp_A = np.power(x - np.transpose(mean_A) / std_A, 2)\n",
        "  tmp_B = np.power(x - np.transpose(mean_B) / std_B, 2)\n",
        "  tmp_C = np.power(x - np.transpose(mean_C) / std_C, 2)\n",
        "\n",
        "  \n",
        "  g.append( -0.5 * sum(sum(tmp_A)) +  np.log(pc_A) )\n",
        "  g.append( -0.5 * sum(sum(tmp_B)) +  np.log(pc_B) )\n",
        "  g.append( -0.5 * sum(sum(tmp_C)) +  np.log(pc_C) )\n",
        "\n",
        "  final_C.append(g)\n",
        "\n",
        "print(np.shape(final_C))"
      ],
      "execution_count": 8,
      "outputs": [
        {
          "output_type": "stream",
          "text": [
            "(600, 3)\n"
          ],
          "name": "stdout"
        }
      ]
    },
    {
      "cell_type": "code",
      "metadata": {
        "id": "3eeVn_bbpxVF",
        "colab_type": "code",
        "outputId": "f36dc67f-c01d-4fa1-92ae-23fd840c289e",
        "colab": {
          "base_uri": "https://localhost:8080/",
          "height": 35
        }
      },
      "source": [
        "preds_C = []\n",
        "\n",
        "for x in final_C:\n",
        "  preds_C.append(x.index(np.max(x)))\n",
        "\n",
        "print(accuracy_score(y_test, preds_C))"
      ],
      "execution_count": 9,
      "outputs": [
        {
          "output_type": "stream",
          "text": [
            "0.5033333333333333\n"
          ],
          "name": "stdout"
        }
      ]
    },
    {
      "cell_type": "markdown",
      "metadata": {
        "id": "xVkXP2bxqKS8",
        "colab_type": "text"
      },
      "source": [
        "Case D"
      ]
    },
    {
      "cell_type": "code",
      "metadata": {
        "id": "it-lyJOYqOIx",
        "colab_type": "code",
        "outputId": "26d5f107-94c5-4173-c6be-7c193655e5f1",
        "colab": {
          "base_uri": "https://localhost:8080/",
          "height": 35
        }
      },
      "source": [
        "\n",
        "final_D = []\n",
        "\n",
        "for x in test_data:\n",
        "  g = []\n",
        "  g.append( np.dot(mean_A, x) - 0.5 * np.linalg.norm(np.transpose(mean_A)))\n",
        "  g.append( np.dot(mean_B, x) - 0.5 * np.linalg.norm(np.transpose(mean_B)))\n",
        "  g.append( np.dot(mean_C, x) - 0.5 * np.linalg.norm(np.transpose(mean_C)))\n",
        "\n",
        "  final_D.append(g)\n",
        "\n",
        "print(np.shape(final_D))"
      ],
      "execution_count": 10,
      "outputs": [
        {
          "output_type": "stream",
          "text": [
            "(600, 3, 1)\n"
          ],
          "name": "stdout"
        }
      ]
    },
    {
      "cell_type": "code",
      "metadata": {
        "id": "9W4iYIAurzBa",
        "colab_type": "code",
        "outputId": "12f93a43-e52b-4ecd-b91b-c0bd3b418581",
        "colab": {
          "base_uri": "https://localhost:8080/",
          "height": 35
        }
      },
      "source": [
        "from sklearn.metrics import accuracy_score\n",
        "preds_D = []\n",
        "\n",
        "for x in final_D:\n",
        "  preds_D.append(x.index(np.max(x)))\n",
        "\n",
        "print(accuracy_score(y_test, preds_D))"
      ],
      "execution_count": 11,
      "outputs": [
        {
          "output_type": "stream",
          "text": [
            "0.7166666666666667\n"
          ],
          "name": "stdout"
        }
      ]
    },
    {
      "cell_type": "markdown",
      "metadata": {
        "colab_type": "text",
        "id": "i0h8x3iEOMOI"
      },
      "source": [
        "# داده های 250 تایی"
      ]
    },
    {
      "cell_type": "markdown",
      "metadata": {
        "colab_type": "text",
        "id": "jnDJHeTqOMOT"
      },
      "source": [
        "<p align=\"right\">ابتدا داده ها را از فایل می خوانیم</p>"
      ]
    },
    {
      "cell_type": "code",
      "metadata": {
        "colab_type": "code",
        "id": "U8raFXZkOMOZ",
        "colab": {}
      },
      "source": [
        "import pandas as pd\n",
        "import numpy as np\n",
        "\n",
        "train = pd.read_csv(\"train_250.csv\") \n",
        "\n",
        "labels = train['class']\n",
        "f1 = train['feature_1']\n",
        "f2 = train['feature2']\n",
        "\n",
        "A = []\n",
        "B = []\n",
        "C = []\n",
        "\n",
        "for i in range(len(f1)):\n",
        "  listt = []\n",
        "  listt.append(f1[i])\n",
        "  listt.append(f2[i])\n",
        "\n",
        "  if labels[i] == 'A':\n",
        "    A.append(listt)\n",
        "  elif labels[i] == 'B':\n",
        "    B.append(listt)\n",
        "  else:\n",
        "    C.append(listt)\n",
        " "
      ],
      "execution_count": 0,
      "outputs": []
    },
    {
      "cell_type": "code",
      "metadata": {
        "id": "su0kISb8xTdm",
        "colab_type": "code",
        "outputId": "21a2a04a-211d-41fa-d21f-537d8b69c63a",
        "colab": {
          "base_uri": "https://localhost:8080/",
          "height": 147
        }
      },
      "source": [
        "cov_A = np.cov(A, rowvar=False)\n",
        "cov_B = np.cov(B, rowvar=False)\n",
        "cov_C = np.cov(C, rowvar=False)\n",
        "\n",
        "print(cov_A, cov_B, cov_C)\n",
        "\n",
        "mean_A = [np.mean(A, axis=0)]\n",
        "mean_B = [np.mean(B, axis=0)]\n",
        "mean_C = [np.mean(C, axis=0)]\n",
        "\n",
        "print(mean_A, mean_B, mean_C)\n",
        "\n",
        "pc_A = len(A)/(len(A) + len(B) + len(C))\n",
        "pc_B = len(B)/(len(A) + len(B) + len(C))\n",
        "pc_C = len(C)/(len(A) + len(B) + len(C))\n",
        "\n",
        "print(pc_A, pc_B, pc_C)\n"
      ],
      "execution_count": 4,
      "outputs": [
        {
          "output_type": "stream",
          "text": [
            "[[105.24418679 -54.52131438]\n",
            " [-54.52131438 108.79192294]] [[28.39809024  0.76879621]\n",
            " [ 0.76879621 28.31473344]] [[120.23071263  60.82751456]\n",
            " [ 60.82751456  75.11387381]]\n",
            "[array([-10.65756813,  30.72231011])] [array([35.38229744, -4.85565289])] [array([5.04479034, 2.59324312])]\n",
            "0.3333333333333333 0.3333333333333333 0.3333333333333333\n"
          ],
          "name": "stdout"
        }
      ]
    },
    {
      "cell_type": "markdown",
      "metadata": {
        "id": "BrEzdaBHvaqY",
        "colab_type": "text"
      },
      "source": [
        "Case A"
      ]
    },
    {
      "cell_type": "code",
      "metadata": {
        "id": "mRPecUqovZp_",
        "colab_type": "code",
        "outputId": "d0e486ca-79cb-499a-e6e0-9fc2d50e18a1",
        "colab": {
          "base_uri": "https://localhost:8080/",
          "height": 35
        }
      },
      "source": [
        "\n",
        "test = pd.read_csv(\"test_labels.csv\") \n",
        "\n",
        "test_labels = test['class']\n",
        "test_f1 = test['feature_1']\n",
        "test_f2 = test['feature2']\n",
        "\n",
        "test_data = []\n",
        "\n",
        "for i in range(len(test_f1)):\n",
        "\n",
        "  listt = []\n",
        "  listt.append(test_f1[i])\n",
        "  listt.append(test_f2[i])\n",
        "\n",
        "  test_data.append(listt)\n",
        "\n",
        "\n",
        "inverse_cov_A = np.linalg.inv(cov_A)\n",
        "inverse_cov_B = np.linalg.inv(cov_B)\n",
        "inverse_cov_C = np.linalg.inv(cov_C)\n",
        "\n",
        "\n",
        "final = []\n",
        "for x in test_data:\n",
        "  g = []\n",
        "  tmp_A = [a_i - b_i for a_i, b_i in zip(x, np.transpose(mean_A))]\n",
        "  tmp_B = [a_i - b_i for a_i, b_i in zip(x, np.transpose(mean_B))]\n",
        "  tmp_C = [a_i - b_i for a_i, b_i in zip(x, np.transpose(mean_C))]\n",
        "  g.append( (-0.5 * np.log(np.linalg.det(cov_A)) ) - (  0.5 * np.dot(np.dot(np.transpose(tmp_A), inverse_cov_A)  , tmp_A )  )+  np.log(pc_A) )\n",
        "  g.append( (-0.5 * np.log(np.linalg.det(cov_B)) ) - (  0.5 * np.dot(np.dot(np.transpose(tmp_B), inverse_cov_B)  , tmp_B )  )+  np.log(pc_B) )\n",
        "  g.append( (-0.5 * np.log(np.linalg.det(cov_C)) ) - (  0.5 * np.dot(np.dot(np.transpose(tmp_C), inverse_cov_C)  , tmp_C )  )+  np.log(pc_C) )\n",
        "\n",
        "  final.append(g)\n",
        "\n",
        "print(np.shape(final))\n"
      ],
      "execution_count": 5,
      "outputs": [
        {
          "output_type": "stream",
          "text": [
            "(600, 3, 1, 1)\n"
          ],
          "name": "stdout"
        }
      ]
    },
    {
      "cell_type": "code",
      "metadata": {
        "id": "rucCd2KLyv8h",
        "colab_type": "code",
        "outputId": "fbb29798-fe18-4de9-f985-fa505d0a7c9b",
        "colab": {
          "base_uri": "https://localhost:8080/",
          "height": 35
        }
      },
      "source": [
        "from sklearn.metrics import accuracy_score\n",
        "\n",
        "preds = []\n",
        "y_test = []\n",
        "\n",
        "for x in final:\n",
        "  preds.append(x.index(np.max(x)))\n",
        "\n",
        "for label in test_labels:\n",
        "  if label == 'A':\n",
        "    y_test.append(0)\n",
        "  elif label == 'B':\n",
        "    y_test.append(1)\n",
        "  else:\n",
        "    y_test.append(2)\n",
        "    \n",
        "print(accuracy_score(y_test, preds))"
      ],
      "execution_count": 6,
      "outputs": [
        {
          "output_type": "stream",
          "text": [
            "0.9633333333333334\n"
          ],
          "name": "stdout"
        }
      ]
    },
    {
      "cell_type": "markdown",
      "metadata": {
        "id": "U7_P5WZQzKB-",
        "colab_type": "text"
      },
      "source": [
        "Case B"
      ]
    },
    {
      "cell_type": "code",
      "metadata": {
        "id": "iTzxhcLNzML4",
        "colab_type": "code",
        "outputId": "1cb2985e-9732-454e-aa3b-ed6483093319",
        "colab": {
          "base_uri": "https://localhost:8080/",
          "height": 35
        }
      },
      "source": [
        "s = np.dot(pc_A, cov_A) + np.dot(pc_B, cov_B) + np.dot(pc_C, cov_C)\n",
        "inverse_s = np.linalg.inv(s)\n",
        "\n",
        "final_B = []\n",
        "for x in test_data:\n",
        "  g = []\n",
        "  tmp_A = [a_i - b_i for a_i, b_i in zip(x, np.transpose(mean_A))]\n",
        "  tmp_B = [a_i - b_i for a_i, b_i in zip(x, np.transpose(mean_B))]\n",
        "  tmp_C = [a_i - b_i for a_i, b_i in zip(x, np.transpose(mean_C))]\n",
        "  g.append(  ( - 0.5 * np.dot(np.dot(np.transpose(tmp_A), inverse_s)  , tmp_C )  )+  np.log(pc_A) )\n",
        "  g.append(  ( - 0.5 * np.dot(np.dot(np.transpose(tmp_B), inverse_s)  , tmp_B )  )+  np.log(pc_B) )\n",
        "  g.append(  ( - 0.5 * np.dot(np.dot(np.transpose(tmp_C), inverse_s)  , tmp_C )  )+  np.log(pc_C) )\n",
        "\n",
        "  final_B.append(g)\n",
        "\n",
        "print(np.shape(final_B))"
      ],
      "execution_count": 7,
      "outputs": [
        {
          "output_type": "stream",
          "text": [
            "(600, 3, 1, 1)\n"
          ],
          "name": "stdout"
        }
      ]
    },
    {
      "cell_type": "code",
      "metadata": {
        "id": "yizb6hk2zijn",
        "colab_type": "code",
        "outputId": "093c3ed6-b8fa-4fdf-ce63-dfb2e70c0073",
        "colab": {
          "base_uri": "https://localhost:8080/",
          "height": 35
        }
      },
      "source": [
        "preds_B = []\n",
        "\n",
        "for x in final_B:\n",
        "  preds_B.append(x.index(np.max(x)))\n",
        "\n",
        "print(accuracy_score(y_test, preds_B))"
      ],
      "execution_count": 8,
      "outputs": [
        {
          "output_type": "stream",
          "text": [
            "0.8433333333333334\n"
          ],
          "name": "stdout"
        }
      ]
    },
    {
      "cell_type": "markdown",
      "metadata": {
        "id": "OSzh4QKTzkaY",
        "colab_type": "text"
      },
      "source": [
        "Case C"
      ]
    },
    {
      "cell_type": "code",
      "metadata": {
        "id": "Hh21XNcEzorI",
        "colab_type": "code",
        "outputId": "78edebdc-7c93-46d2-98de-e4823e899e5c",
        "colab": {
          "base_uri": "https://localhost:8080/",
          "height": 35
        }
      },
      "source": [
        "std_A = [np.std(A, axis=0)]\n",
        "std_B = [np.std(B, axis=0)]\n",
        "std_C = [np.std(C, axis=0)]\n",
        "\n",
        "final_C = []\n",
        "\n",
        "for x in test_data:\n",
        "  g = []\n",
        "  tmp_A = np.power(x - np.transpose(mean_A) / std_A, 2)\n",
        "  tmp_B = np.power(x - np.transpose(mean_B) / std_B, 2)\n",
        "  tmp_C = np.power(x - np.transpose(mean_C) / std_C, 2)\n",
        "\n",
        "  \n",
        "  g.append( -0.5 * sum(sum(tmp_A)) +  np.log(pc_A) )\n",
        "  g.append( -0.5 * sum(sum(tmp_B)) +  np.log(pc_B) )\n",
        "  g.append( -0.5 * sum(sum(tmp_C)) +  np.log(pc_C) )\n",
        "\n",
        "  final_C.append(g)\n",
        "\n",
        "print(np.shape(final_C))"
      ],
      "execution_count": 9,
      "outputs": [
        {
          "output_type": "stream",
          "text": [
            "(600, 3)\n"
          ],
          "name": "stdout"
        }
      ]
    },
    {
      "cell_type": "code",
      "metadata": {
        "id": "7TgP-kibzzxF",
        "colab_type": "code",
        "outputId": "3598abfe-0a81-48c5-cda1-afd1fcab3ca0",
        "colab": {
          "base_uri": "https://localhost:8080/",
          "height": 35
        }
      },
      "source": [
        "preds_C = []\n",
        "\n",
        "for x in final_C:\n",
        "  preds_C.append(x.index(np.max(x)))\n",
        "\n",
        "print(accuracy_score(y_test, preds_C))"
      ],
      "execution_count": 10,
      "outputs": [
        {
          "output_type": "stream",
          "text": [
            "0.5133333333333333\n"
          ],
          "name": "stdout"
        }
      ]
    },
    {
      "cell_type": "markdown",
      "metadata": {
        "id": "HYhtTD1Qz_mp",
        "colab_type": "text"
      },
      "source": [
        "Case D"
      ]
    },
    {
      "cell_type": "code",
      "metadata": {
        "id": "EFAEh-7H0Bc9",
        "colab_type": "code",
        "outputId": "d9248b6b-8857-4d1d-8469-d063a2959291",
        "colab": {
          "base_uri": "https://localhost:8080/",
          "height": 35
        }
      },
      "source": [
        "final_D = []\n",
        "\n",
        "for x in test_data:\n",
        "  g = []\n",
        "  \n",
        "  g.append( np.dot(mean_A, x) - 0.5 * np.linalg.norm(np.transpose(mean_A)))\n",
        "  g.append( np.dot(mean_B, x) - 0.5 * np.linalg.norm(np.transpose(mean_B)))\n",
        "  g.append( np.dot(mean_C, x) - 0.5 * np.linalg.norm(np.transpose(mean_C)))\n",
        "\n",
        "  final_D.append(g)\n",
        "\n",
        "print(np.shape(final_D))\n"
      ],
      "execution_count": 11,
      "outputs": [
        {
          "output_type": "stream",
          "text": [
            "(600, 3, 1)\n"
          ],
          "name": "stdout"
        }
      ]
    },
    {
      "cell_type": "code",
      "metadata": {
        "id": "Rf-2yGTZ0H0-",
        "colab_type": "code",
        "outputId": "7830cdaf-a585-4727-d05f-3e86fd605682",
        "colab": {
          "base_uri": "https://localhost:8080/",
          "height": 35
        }
      },
      "source": [
        "preds_D = []\n",
        "\n",
        "for x in final_D:\n",
        "  preds_D.append(x.index(np.max(x)))\n",
        "\n",
        "print(accuracy_score(y_test, preds_D))"
      ],
      "execution_count": 12,
      "outputs": [
        {
          "output_type": "stream",
          "text": [
            "0.7133333333333334\n"
          ],
          "name": "stdout"
        }
      ]
    },
    {
      "cell_type": "markdown",
      "metadata": {
        "colab_type": "text",
        "id": "0iPFum7QOMOp"
      },
      "source": [
        "<p align=\"right\">اکنون با کمک داده های موجود و چهار روشی که در جدول ۵٫۱ آمده  است داده های فایل تست را ارزیابی کنید و نتیجه را گزارش کنید</p>"
      ]
    },
    {
      "cell_type": "markdown",
      "metadata": {
        "colab_type": "text",
        "id": "TduGFV8POOG6"
      },
      "source": [
        "# داده های 800 تایی"
      ]
    },
    {
      "cell_type": "code",
      "metadata": {
        "id": "4emVFmN72csi",
        "colab_type": "code",
        "colab": {}
      },
      "source": [
        "import pandas as pd\n",
        "import numpy as np\n",
        "\n",
        "train = pd.read_csv(\"train_800.csv\") \n",
        "\n",
        "labels = train['class']\n",
        "f1 = train['feature_1']\n",
        "f2 = train['feature2']\n",
        "\n",
        "A = []\n",
        "B = []\n",
        "C = []\n",
        "\n",
        "for i in range(len(f1)):\n",
        "  listt = []\n",
        "  listt.append(f1[i])\n",
        "  listt.append(f2[i])\n",
        "\n",
        "  if labels[i] == 'A':\n",
        "    A.append(listt)\n",
        "  elif labels[i] == 'B':\n",
        "    B.append(listt)\n",
        "  else:\n",
        "    C.append(listt)\n",
        " "
      ],
      "execution_count": 0,
      "outputs": []
    },
    {
      "cell_type": "code",
      "metadata": {
        "id": "Qi11AYhM2isO",
        "colab_type": "code",
        "outputId": "71af8b19-0a40-4f57-8a45-df90041411b2",
        "colab": {
          "base_uri": "https://localhost:8080/",
          "height": 147
        }
      },
      "source": [
        "cov_A = np.cov(A, rowvar=False)\n",
        "cov_B = np.cov(B, rowvar=False)\n",
        "cov_C = np.cov(C, rowvar=False)\n",
        "\n",
        "print(cov_A, cov_B, cov_C)\n",
        "\n",
        "mean_A = [np.mean(A, axis=0)]\n",
        "mean_B = [np.mean(B, axis=0)]\n",
        "mean_C = [np.mean(C, axis=0)]\n",
        "\n",
        "print(mean_A, mean_B, mean_C)\n",
        "\n",
        "pc_A = len(A)/(len(A) + len(B) + len(C))\n",
        "pc_B = len(B)/(len(A) + len(B) + len(C))\n",
        "pc_C = len(C)/(len(A) + len(B) + len(C))\n",
        "\n",
        "print(pc_A, pc_B, pc_C)\n"
      ],
      "execution_count": 2,
      "outputs": [
        {
          "output_type": "stream",
          "text": [
            "[[109.64763501 -51.25302335]\n",
            " [-51.25302335  93.45032984]] [[28.9142815  -0.56613003]\n",
            " [-0.56613003 26.2125475 ]] [[114.17787964  57.65006723]\n",
            " [ 57.65006723  74.59239028]]\n",
            "[array([-10.12861068,  29.88720546])] [array([35.28391833, -4.96562922])] [array([5.16869842, 2.02723897])]\n",
            "0.3333333333333333 0.3333333333333333 0.3333333333333333\n"
          ],
          "name": "stdout"
        }
      ]
    },
    {
      "cell_type": "markdown",
      "metadata": {
        "id": "Wvsx1AVH15Fl",
        "colab_type": "text"
      },
      "source": [
        "Case A"
      ]
    },
    {
      "cell_type": "code",
      "metadata": {
        "id": "iN-GwdsL3YqN",
        "colab_type": "code",
        "outputId": "9795209a-313b-4f4f-f3ae-5f2a2b000b3d",
        "colab": {
          "base_uri": "https://localhost:8080/",
          "height": 35
        }
      },
      "source": [
        "test = pd.read_csv(\"test_labels.csv\") \n",
        "\n",
        "test_labels = test['class']\n",
        "test_f1 = test['feature_1']\n",
        "test_f2 = test['feature2']\n",
        "\n",
        "test_data = []\n",
        "\n",
        "for i in range(len(test_f1)):\n",
        "\n",
        "  listt = []\n",
        "  listt.append(test_f1[i])\n",
        "  listt.append(test_f2[i])\n",
        "\n",
        "  test_data.append(listt)\n",
        "\n",
        "\n",
        "inverse_cov_A = np.linalg.inv(cov_A)\n",
        "inverse_cov_B = np.linalg.inv(cov_B)\n",
        "inverse_cov_C = np.linalg.inv(cov_C)\n",
        "\n",
        "\n",
        "final = []\n",
        "for x in test_data:\n",
        "  g = []\n",
        "  tmp_A = [a_i - b_i for a_i, b_i in zip(x, np.transpose(mean_A))]\n",
        "  tmp_B = [a_i - b_i for a_i, b_i in zip(x, np.transpose(mean_B))]\n",
        "  tmp_C = [a_i - b_i for a_i, b_i in zip(x, np.transpose(mean_C))]\n",
        "  g.append( (-0.5 * np.log(np.linalg.det(cov_A)) ) - (  0.5 * np.dot(np.dot(np.transpose(tmp_A), inverse_cov_A)  , tmp_A )  )+  np.log(pc_A) )\n",
        "  g.append( (-0.5 * np.log(np.linalg.det(cov_B)) ) - (  0.5 * np.dot(np.dot(np.transpose(tmp_B), inverse_cov_B)  , tmp_B )  )+  np.log(pc_B) )\n",
        "  g.append( (-0.5 * np.log(np.linalg.det(cov_C)) ) - (  0.5 * np.dot(np.dot(np.transpose(tmp_C), inverse_cov_C)  , tmp_C )  )+  np.log(pc_C) )\n",
        "\n",
        "  final.append(g)\n",
        "\n",
        "print(np.shape(final))"
      ],
      "execution_count": 3,
      "outputs": [
        {
          "output_type": "stream",
          "text": [
            "(600, 3, 1, 1)\n"
          ],
          "name": "stdout"
        }
      ]
    },
    {
      "cell_type": "code",
      "metadata": {
        "id": "qiiCwRki3djv",
        "colab_type": "code",
        "outputId": "c406b076-47d7-4274-eadd-5e5e2a13d823",
        "colab": {
          "base_uri": "https://localhost:8080/",
          "height": 35
        }
      },
      "source": [
        "from sklearn.metrics import accuracy_score\n",
        "\n",
        "preds = []\n",
        "y_test = []\n",
        "\n",
        "for x in final:\n",
        "  preds.append(x.index(np.max(x)))\n",
        "\n",
        "for label in test_labels:\n",
        "  if label == 'A':\n",
        "    y_test.append(0)\n",
        "  elif label == 'B':\n",
        "    y_test.append(1)\n",
        "  else:\n",
        "    y_test.append(2)\n",
        "    \n",
        "print(accuracy_score(y_test, preds))"
      ],
      "execution_count": 4,
      "outputs": [
        {
          "output_type": "stream",
          "text": [
            "0.9633333333333334\n"
          ],
          "name": "stdout"
        }
      ]
    },
    {
      "cell_type": "markdown",
      "metadata": {
        "id": "Nug-TSPs3wNs",
        "colab_type": "text"
      },
      "source": [
        "Case B"
      ]
    },
    {
      "cell_type": "code",
      "metadata": {
        "id": "75C2X3L13xyh",
        "colab_type": "code",
        "outputId": "fcf26f8b-ffd3-431b-95ec-f9911ba32977",
        "colab": {
          "base_uri": "https://localhost:8080/",
          "height": 35
        }
      },
      "source": [
        "s = np.dot(pc_A, cov_A) + np.dot(pc_B, cov_B) + np.dot(pc_C, cov_C)\n",
        "inverse_s = np.linalg.inv(s)\n",
        "\n",
        "final_B = []\n",
        "for x in test_data:\n",
        "  g = []\n",
        "  tmp_A = [a_i - b_i for a_i, b_i in zip(x, np.transpose(mean_A))]\n",
        "  tmp_B = [a_i - b_i for a_i, b_i in zip(x, np.transpose(mean_B))]\n",
        "  tmp_C = [a_i - b_i for a_i, b_i in zip(x, np.transpose(mean_C))]\n",
        "  g.append(  ( - 0.5 * np.dot(np.dot(np.transpose(tmp_A), inverse_s)  , tmp_C )  )+  np.log(pc_A) )\n",
        "  g.append(  ( - 0.5 * np.dot(np.dot(np.transpose(tmp_B), inverse_s)  , tmp_B )  )+  np.log(pc_B) )\n",
        "  g.append(  ( - 0.5 * np.dot(np.dot(np.transpose(tmp_C), inverse_s)  , tmp_C )  )+  np.log(pc_C) )\n",
        "\n",
        "  final_B.append(g)\n",
        "\n",
        "print(np.shape(final_B))"
      ],
      "execution_count": 5,
      "outputs": [
        {
          "output_type": "stream",
          "text": [
            "(600, 3, 1, 1)\n"
          ],
          "name": "stdout"
        }
      ]
    },
    {
      "cell_type": "code",
      "metadata": {
        "id": "lG3DUEaa33_X",
        "colab_type": "code",
        "outputId": "9ea7a1ac-84d8-4c62-819a-ad56a8cb74ba",
        "colab": {
          "base_uri": "https://localhost:8080/",
          "height": 35
        }
      },
      "source": [
        "preds_B = []\n",
        "\n",
        "for x in final_B:\n",
        "  preds_B.append(x.index(np.max(x)))\n",
        "\n",
        "print(accuracy_score(y_test, preds_B))"
      ],
      "execution_count": 6,
      "outputs": [
        {
          "output_type": "stream",
          "text": [
            "0.8383333333333334\n"
          ],
          "name": "stdout"
        }
      ]
    },
    {
      "cell_type": "markdown",
      "metadata": {
        "id": "_OcYKf6q34vs",
        "colab_type": "text"
      },
      "source": [
        "Case C"
      ]
    },
    {
      "cell_type": "code",
      "metadata": {
        "id": "6_xeiuD-39sy",
        "colab_type": "code",
        "outputId": "eeb91189-663e-445a-c83d-d1d2fc6a7cf6",
        "colab": {
          "base_uri": "https://localhost:8080/",
          "height": 35
        }
      },
      "source": [
        "std_A = [np.std(A, axis=0)]\n",
        "std_B = [np.std(B, axis=0)]\n",
        "std_C = [np.std(C, axis=0)]\n",
        "\n",
        "final_C = []\n",
        "\n",
        "for x in test_data:\n",
        "  g = []\n",
        "  tmp_A = np.power(x - np.transpose(mean_A) / std_A, 2)\n",
        "  tmp_B = np.power(x - np.transpose(mean_B) / std_B, 2)\n",
        "  tmp_C = np.power(x - np.transpose(mean_C) / std_C, 2)\n",
        "\n",
        "  \n",
        "  g.append( -0.5 * sum(sum(tmp_A)) +  np.log(pc_A) )\n",
        "  g.append( -0.5 * sum(sum(tmp_B)) +  np.log(pc_B) )\n",
        "  g.append( -0.5 * sum(sum(tmp_C)) +  np.log(pc_C) )\n",
        "\n",
        "  final_C.append(g)\n",
        "\n",
        "print(np.shape(final_C))"
      ],
      "execution_count": 7,
      "outputs": [
        {
          "output_type": "stream",
          "text": [
            "(600, 3)\n"
          ],
          "name": "stdout"
        }
      ]
    },
    {
      "cell_type": "code",
      "metadata": {
        "id": "dbVGiM-c4Cw0",
        "colab_type": "code",
        "outputId": "30f97d21-e585-43a4-b2d4-50d3a4394627",
        "colab": {
          "base_uri": "https://localhost:8080/",
          "height": 35
        }
      },
      "source": [
        "preds_C = []\n",
        "\n",
        "for x in final_C:\n",
        "  preds_C.append(x.index(np.max(x)))\n",
        "\n",
        "print(accuracy_score(y_test, preds_C))"
      ],
      "execution_count": 8,
      "outputs": [
        {
          "output_type": "stream",
          "text": [
            "0.5216666666666666\n"
          ],
          "name": "stdout"
        }
      ]
    },
    {
      "cell_type": "markdown",
      "metadata": {
        "id": "pUG6ISln4Dn2",
        "colab_type": "text"
      },
      "source": [
        "Case D"
      ]
    },
    {
      "cell_type": "code",
      "metadata": {
        "id": "C3_3kgTH4JMT",
        "colab_type": "code",
        "outputId": "09c20df9-f775-4d75-cf77-81c69c0e2001",
        "colab": {
          "base_uri": "https://localhost:8080/",
          "height": 35
        }
      },
      "source": [
        "final_D = []\n",
        "\n",
        "for x in test_data:\n",
        "  g = []\n",
        "  \n",
        "  g.append( np.dot(mean_A, x) - 0.5 * np.linalg.norm(np.transpose(mean_A), 2))\n",
        "  g.append( np.dot(mean_B, x) - 0.5 * np.linalg.norm(np.transpose(mean_B), 2))\n",
        "  g.append( np.dot(mean_C, x) - 0.5 * np.linalg.norm(np.transpose(mean_C), 2))\n",
        "\n",
        "  final_D.append(g)\n",
        "\n",
        "print(np.shape(final_D))"
      ],
      "execution_count": 9,
      "outputs": [
        {
          "output_type": "stream",
          "text": [
            "(600, 3, 1)\n"
          ],
          "name": "stdout"
        }
      ]
    },
    {
      "cell_type": "code",
      "metadata": {
        "id": "gOuel6B54Q9c",
        "colab_type": "code",
        "outputId": "56d2617e-cc85-4385-9fa6-a35b4fb863d0",
        "colab": {
          "base_uri": "https://localhost:8080/",
          "height": 35
        }
      },
      "source": [
        "preds_D = []\n",
        "\n",
        "for x in final_D:\n",
        "  preds_D.append(x.index(np.max(x)))\n",
        "\n",
        "print(accuracy_score(y_test, preds_D))"
      ],
      "execution_count": 10,
      "outputs": [
        {
          "output_type": "stream",
          "text": [
            "0.7133333333333334\n"
          ],
          "name": "stdout"
        }
      ]
    },
    {
      "cell_type": "markdown",
      "metadata": {
        "colab_type": "text",
        "id": "cFsmG_UiOPUh"
      },
      "source": [
        "# ارزیابی بهترین مدل"
      ]
    },
    {
      "cell_type": "markdown",
      "metadata": {
        "id": "lhznT7O8O0-c",
        "colab_type": "text"
      },
      "source": [
        "<p align=\"right\">در این بخش داده های موجود را با بهترین مدلی که یافتید دسته بندی کنید و نتایج را در یک فایل ذخیره کنید. در این فایل فقط کلاس داده ها را به ترتیب فایل داده شده بنویسید. دقت این ارزیابی  توسط دستیار آموزشی محاسبه می گردد و در نمره شما موثر است</p>"
      ]
    },
    {
      "cell_type": "markdown",
      "metadata": {
        "colab_type": "text",
        "id": "p4jpLChZOPUm"
      },
      "source": [
        "<p align=\"right\">ابتدا داده ها را از فایل می خوانیم</p>"
      ]
    },
    {
      "cell_type": "code",
      "metadata": {
        "colab_type": "code",
        "id": "QiFl3CNVOPUn",
        "colab": {}
      },
      "source": [
        "import pandas as pd\n",
        "test = pd.read_csv(\"test_without_labels.csv\") "
      ],
      "execution_count": 0,
      "outputs": []
    },
    {
      "cell_type": "code",
      "metadata": {
        "colab_type": "code",
        "id": "NhoA9kZcOPUr",
        "colab": {
          "base_uri": "https://localhost:8080/",
          "height": 35
        },
        "outputId": "9d061428-33ea-4b98-9675-da2df047feea"
      },
      "source": [
        "f1 = test['feature_1']\n",
        "f2 = test['feature2']\n",
        "\n",
        "fi = []\n",
        "\n",
        "data = []\n",
        "\n",
        "for i in range(len(f1)):\n",
        "\n",
        "  l = []\n",
        "  l.append(f1[i])\n",
        "  l.append(f2[i])\n",
        "\n",
        "  data.append(l)\n",
        "\n",
        "for x in data:\n",
        "  g = []\n",
        "  tmp_A = [a_i - b_i for a_i, b_i in zip(x, np.transpose(mean_A))]\n",
        "  tmp_B = [a_i - b_i for a_i, b_i in zip(x, np.transpose(mean_B))]\n",
        "  tmp_C = [a_i - b_i for a_i, b_i in zip(x, np.transpose(mean_C))]\n",
        "  g.append( (-0.5 * np.log(np.linalg.det(cov_A)) ) - (  0.5 * np.dot(np.dot(np.transpose(tmp_A), inverse_cov_A)  , tmp_A )  )+  np.log(pc_A) )\n",
        "  g.append( (-0.5 * np.log(np.linalg.det(cov_B)) ) - (  0.5 * np.dot(np.dot(np.transpose(tmp_B), inverse_cov_B)  , tmp_B )  )+  np.log(pc_B) )\n",
        "  g.append( (-0.5 * np.log(np.linalg.det(cov_C)) ) - (  0.5 * np.dot(np.dot(np.transpose(tmp_C), inverse_cov_C)  , tmp_C )  )+  np.log(pc_C) )\n",
        "\n",
        "  fi.append(g)\n",
        "\n",
        "print(np.shape(fi))"
      ],
      "execution_count": 12,
      "outputs": [
        {
          "output_type": "stream",
          "text": [
            "(1500, 3, 1, 1)\n"
          ],
          "name": "stdout"
        }
      ]
    },
    {
      "cell_type": "code",
      "metadata": {
        "id": "B3d35vZdJ6UP",
        "colab_type": "code",
        "colab": {}
      },
      "source": [
        "p = []\n",
        "y_test = []\n",
        "\n",
        "for x in fi:\n",
        "  p.append(x.index(np.max(x)))"
      ],
      "execution_count": 0,
      "outputs": []
    },
    {
      "cell_type": "code",
      "metadata": {
        "id": "Uwns9oWbLwri",
        "colab_type": "code",
        "colab": {}
      },
      "source": [
        "f = open(\"predictions.txt\", \"w\")\n",
        "for listitem in p:\n",
        "  if listitem == 0:\n",
        "    f.write(\"A\")\n",
        "  elif listitem == 1:\n",
        "    f.write(\"B\")\n",
        "  else:\n",
        "    f.write(\"C\")\n",
        "  f.write(\"\\n\")  \n",
        "\n",
        "f.close()"
      ],
      "execution_count": 0,
      "outputs": []
    }
  ]
}