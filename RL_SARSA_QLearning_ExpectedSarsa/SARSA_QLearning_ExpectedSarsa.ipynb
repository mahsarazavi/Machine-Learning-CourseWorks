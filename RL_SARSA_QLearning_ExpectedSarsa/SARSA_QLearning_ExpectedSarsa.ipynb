{
  "nbformat": 4,
  "nbformat_minor": 0,
  "metadata": {
    "colab": {
      "name": "HW11",
      "provenance": [],
      "collapsed_sections": []
    },
    "kernelspec": {
      "name": "python3",
      "display_name": "Python 3"
    }
  },
  "cells": [
    {
      "cell_type": "code",
      "metadata": {
        "id": "K7cOqs3HEOSX",
        "colab_type": "code",
        "colab": {}
      },
      "source": [
        "import numpy as np\n",
        "import gym\n",
        "import random\n",
        "import matplotlib.pyplot as plt"
      ],
      "execution_count": 0,
      "outputs": []
    },
    {
      "cell_type": "markdown",
      "metadata": {
        "id": "fFgoPHk4dDE3",
        "colab_type": "text"
      },
      "source": [
        "Defining parameters"
      ]
    },
    {
      "cell_type": "code",
      "metadata": {
        "id": "V86HcsCHGvps",
        "colab_type": "code",
        "colab": {}
      },
      "source": [
        "epsilon = 0.9\n",
        "min_epsilon = 0.001\n",
        "decay_rate = 0.9\n",
        "total_episodes = 10000\n",
        "max_steps = 100\n",
        "alpha = 0.8\n",
        "gamma = 0.9\n",
        "env = gym.make('FrozenLake-v0')\n"
      ],
      "execution_count": 0,
      "outputs": []
    },
    {
      "cell_type": "markdown",
      "metadata": {
        "id": "N1bQFnumcxDm",
        "colab_type": "text"
      },
      "source": [
        "# Q learning"
      ]
    },
    {
      "cell_type": "code",
      "metadata": {
        "id": "B-PQu1V3G2p7",
        "colab_type": "code",
        "colab": {}
      },
      "source": [
        "def choose_action(state):\n",
        "  action = 0\n",
        "  if np.random.uniform(0, 1) < epsilon:\n",
        "    action = env.action_space.sample()\n",
        "  else:\n",
        "    action = np.argmax(Q_qlearning[state, :])\n",
        "  return action\n",
        "\n",
        "def learn(state1, state2, reward, action):\n",
        "  prediction = Q_qlearning[state, action]\n",
        "  target = reward + gamma * np.max(Q_qlearning[state2, :])\n",
        "  Q_qlearning[state, action] = Q_qlearning[state, action] + alpha * (target - prediction)\n",
        "\n",
        "\n",
        "rew_qlearning = []\n",
        "rew_qlearning.append(0)\n",
        "\n",
        "Q_qlearning = np.zeros((env.observation_space.n, env.action_space.n))\n",
        "\n",
        "for episode in range(total_episodes):\n",
        "  state = env.reset()\n",
        "  t = 0\n",
        "  # Decreasing epsilon\n",
        "\n",
        "  if episode % 100 == 99:\n",
        "    epsilon *= decay_rate\n",
        "    epsilon = max(epsilon, min_epsilon)\n",
        "\n",
        "  while t < max_steps:\n",
        "    action = choose_action(state)\n",
        "    state2, reward, done, info = env.step(action)\n",
        "    learn(state, state2, reward, action)\n",
        "    state = state2\n",
        "    t += 1\n",
        "    if done:\n",
        "      if reward > 0.0:\n",
        "        tmp = 1 + rew_qlearning[-1]\n",
        "        rew_qlearning.append(tmp)\n",
        "      else:\n",
        "        tmp = 0 + rew_qlearning[-1]\n",
        "        rew_qlearning.append(tmp)\n",
        "      break"
      ],
      "execution_count": 0,
      "outputs": []
    },
    {
      "cell_type": "code",
      "metadata": {
        "id": "lIjdmsqTI_sE",
        "colab_type": "code",
        "outputId": "c5f32289-94ac-4e9a-97e1-ec3ec655f16d",
        "colab": {
          "base_uri": "https://localhost:8080/",
          "height": 265
        }
      },
      "source": [
        "import matplotlib.pyplot as plt\n",
        "x = [i for i in range(0, len(rew_qlearning))]\n",
        "plt.scatter(x, rew_qlearning)\n",
        "plt.show()"
      ],
      "execution_count": 47,
      "outputs": [
        {
          "output_type": "display_data",
          "data": {
            "image/png": "[encoded data removed]",
            "text/plain": [
              "<Figure size 432x288 with 1 Axes>"
            ]
          },
          "metadata": {
            "tags": [],
            "needs_background": "light"
          }
        }
      ]
    },
    {
      "cell_type": "markdown",
      "metadata": {
        "id": "jEaraaNXcz24",
        "colab_type": "text"
      },
      "source": [
        "# Sarsa"
      ]
    },
    {
      "cell_type": "code",
      "metadata": {
        "id": "2N9ZT_DqQnk3",
        "colab_type": "code",
        "colab": {}
      },
      "source": [
        "def choose_sarsa_action(state): \n",
        "    action=0\n",
        "    if np.random.uniform(0, 1) < epsilon: \n",
        "        action = env.action_space.sample() \n",
        "    else: \n",
        "        action = np.argmax(Q_sarsa[state, :]) \n",
        "    return action \n",
        "\n",
        "def update(state, state2, reward, action, action2): \n",
        "    predict = Q_sarsa[state, action] \n",
        "    target = reward + gamma * Q_sarsa[state2, action2] \n",
        "    Q_sarsa[state, action] = Q_sarsa[state, action] + alpha * (target - predict) "
      ],
      "execution_count": 0,
      "outputs": []
    },
    {
      "cell_type": "code",
      "metadata": {
        "id": "TdM2mMc2TgMz",
        "colab_type": "code",
        "colab": {}
      },
      "source": [
        "reward=0\n",
        "rew_srasa = []\n",
        "done = False\n",
        "rew_srasa.append(0)\n",
        "Q_sarsa = np.zeros((env.observation_space.n, env.action_space.n)) \n",
        "# Starting the SARSA learning \n",
        "for episode in range(total_episodes): \n",
        "  t = 0\n",
        "  state1 = env.reset() \n",
        "  action1 = choose_sarsa_action(state1) \n",
        "  if episode % 100 == 99:\n",
        "    epsilon *= decay_rate\n",
        "    epsilon = max(epsilon, min_epsilon)\n",
        "  while t < max_steps: \n",
        "\n",
        "    state2, reward, done, info = env.step(action1) \n",
        "    action2 = choose_sarsa_action(state2) \n",
        "    update(state1, state2, reward, action1, action2) \n",
        "    state1 = state2 \n",
        "    action1 = action2 \n",
        "      \n",
        "    t += 1 \n",
        "    if done: \n",
        "      if reward > 0.0:\n",
        "        tmp = 1 + rew_srasa[-1]\n",
        "        rew_srasa.append(tmp)\n",
        "      else:\n",
        "        tmp = 0 + rew_srasa[-1]\n",
        "        rew_srasa.append(tmp)\n",
        "      break\n",
        "\n",
        "env.close()"
      ],
      "execution_count": 0,
      "outputs": []
    },
    {
      "cell_type": "code",
      "metadata": {
        "id": "WSFk0l3gToxU",
        "colab_type": "code",
        "outputId": "24e6054e-4581-459e-81a3-6bacf4395772",
        "colab": {
          "base_uri": "https://localhost:8080/",
          "height": 265
        }
      },
      "source": [
        "x = [i for i in range(0, len(rew_srasa))]\n",
        "plt.scatter(x, rew_srasa)\n",
        "plt.show()"
      ],
      "execution_count": 53,
      "outputs": [
        {
          "output_type": "display_data",
          "data": {
            "image/png": "[encoded data removed]",
            "text/plain": [
              "<Figure size 432x288 with 1 Axes>"
            ]
          },
          "metadata": {
            "tags": [],
            "needs_background": "light"
          }
        }
      ]
    },
    {
      "cell_type": "markdown",
      "metadata": {
        "id": "5D2NHHohc2Oe",
        "colab_type": "text"
      },
      "source": [
        "# Expected Sarsa"
      ]
    },
    {
      "cell_type": "code",
      "metadata": {
        "id": "aJSxD8TBXTDa",
        "colab_type": "code",
        "colab": {}
      },
      "source": [
        "def choose_action_expected_srasa(state):\n",
        "  action = 0\n",
        "  if np.random.uniform(0, 1) < epsilon:\n",
        "    action = env.action_space.sample()\n",
        "  else:\n",
        "    action = np.argmax(Q_exp[state, :])\n",
        "  return action\n",
        "\n",
        "def learn_exp(state1, state2, reward, action):\n",
        "  prediction = Q_exp[state, action]\n",
        "  target = reward + gamma * np.mean(Q_exp[state2, :])\n",
        "  Q_exp[state, action] = Q_exp[state, action] + alpha * (target - prediction)\n",
        "\n",
        "\n",
        "rew_exp = []\n",
        "rew_exp.append(0)\n",
        "\n",
        "Q_exp = np.zeros((env.observation_space.n, env.action_space.n))\n",
        "\n",
        "for episode in range(total_episodes):\n",
        "  state = env.reset()\n",
        "  t = 0\n",
        "  # Decreasing epsilon\n",
        "\n",
        "  if episode % 100 == 99:\n",
        "    epsilon *= decay_rate\n",
        "    epsilon = max(epsilon, min_epsilon)\n",
        "\n",
        "  while t < max_steps:\n",
        "    action = choose_action_expected_srasa(state)\n",
        "    state2, reward, done, info = env.step(action)\n",
        "    learn_exp(state, state2, reward, action)\n",
        "    state = state2\n",
        "    t += 1\n",
        "    if done:\n",
        "      if reward > 0.0:\n",
        "        tmp = 1 + rew_exp[-1]\n",
        "        rew_exp.append(tmp)\n",
        "      else:\n",
        "        tmp = 0 + rew_exp[-1]\n",
        "        rew_exp.append(tmp)\n",
        "      break"
      ],
      "execution_count": 0,
      "outputs": []
    },
    {
      "cell_type": "code",
      "metadata": {
        "id": "FZ0vQAYLdXos",
        "colab_type": "code",
        "outputId": "e4b199a3-92ec-441a-f0be-6a236431de6b",
        "colab": {
          "base_uri": "https://localhost:8080/",
          "height": 265
        }
      },
      "source": [
        "x = [i for i in range(0, len(rew_exp))]\n",
        "plt.scatter(x, rew_exp)\n",
        "plt.show()"
      ],
      "execution_count": 56,
      "outputs": [
        {
          "output_type": "display_data",
          "data": {
            "image/png": "[encoded data removed]",
            "text/plain": [
              "<Figure size 432x288 with 1 Axes>"
            ]
          },
          "metadata": {
            "tags": [],
            "needs_background": "light"
          }
        }
      ]
    },
    {
      "cell_type": "markdown",
      "metadata": {
        "id": "6Z2k8TNpc6F-",
        "colab_type": "text"
      },
      "source": [
        "# Visualize rewards all together"
      ]
    },
    {
      "cell_type": "code",
      "metadata": {
        "id": "3LFo7Nb6bvYW",
        "colab_type": "code",
        "colab": {
          "base_uri": "https://localhost:8080/",
          "height": 265
        },
        "outputId": "7d7d2375-670b-4d98-edb8-1e87fbe8018e"
      },
      "source": [
        "colors = ['b', 'c', 'y', 'm', 'r']\n",
        "\n",
        "x = [i for i in range(0, len(rew_exp))]\n",
        "q = plt.scatter(x, rew_qlearning, color=colors[0])\n",
        "s = plt.scatter(x, rew_srasa, color=colors[1])\n",
        "e = plt.scatter(x, rew_exp, color=colors[2])\n",
        "\n",
        "plt.legend((q, s, e),\n",
        "           ('Q learning', 'Sarsa', 'Expected sarsa'),\n",
        "           scatterpoints=1,\n",
        "           loc='upper left',\n",
        "           ncol=3,\n",
        "           fontsize=8)\n",
        "plt.show()"
      ],
      "execution_count": 60,
      "outputs": [
        {
          "output_type": "display_data",
          "data": {
            "image/png": "[encoded data removed]",
            "text/plain": [
              "<Figure size 432x288 with 1 Axes>"
            ]
          },
          "metadata": {
            "tags": [],
            "needs_background": "light"
          }
        }
      ]
    }
  ]
}