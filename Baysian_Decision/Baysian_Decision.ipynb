{
  "nbformat": 4,
  "nbformat_minor": 0,
  "metadata": {
    "colab": {
      "name": "ML_HW2.ipynb",
      "provenance": [],
      "collapsed_sections": []
    },
    "kernelspec": {
      "name": "python3",
      "display_name": "Python 3"
    }
  },
  "cells": [
    {
      "cell_type": "code",
      "metadata": {
        "id": "kdSIoy3Q09vE",
        "colab_type": "code",
        "colab": {
          "base_uri": "https://localhost:8080/",
          "height": 303
        },
        "outputId": "a2a5449e-b488-4fcd-889e-cc5a0d5e6f83"
      },
      "source": [
        "from matplotlib import pyplot as plt\n",
        "import numpy as np\n",
        "import pandas as pd\n",
        "\n",
        "x1 = []\n",
        "x2 = []\n",
        "# read data into pandas dataframe \n",
        "\n",
        "df = pd.read_csv(\"data.csv\")\n",
        "x = df['x']\n",
        "c = df['c']\n",
        "\n",
        "for i in range(0,200):\n",
        "  if c[i] == 0.0:\n",
        "    x1.append(x[i])\n",
        "  else:\n",
        "    x2.append(x[i])\n",
        "\n",
        "mu = 0\n",
        "sigma = 0.1\n",
        "x1 = sorted(x1)\n",
        "y = (1 / (np.sqrt(2 * np.pi * np.power(sigma, 2)))) * \\\n",
        "    (np.power(np.e, -(np.power((x1), 2) / (2 * np.power(sigma, 2)))))\n",
        "plt.plot(x1, y)\n",
        "\n",
        "x2 = sorted(x2)\n",
        "mu = 0.25\n",
        "sub = []\n",
        "for i in x2:\n",
        "  sub.append(i-mu)\n",
        "\n",
        "sigma = 0.1\n",
        "y = (1 / (np.sqrt(2 * np.pi * np.power(sigma, 2)))) * \\\n",
        "    (np.power(np.e, -(np.power((sub), 2) / (2 * np.power(sigma, 2)))))\n",
        "plt.plot(x2, y)\n",
        "\n",
        "xx = [0.125, 0.125, 0.125]\n",
        "yy = [0, 2, 4]\n",
        "\n",
        "plt.plot(xx, yy)\n",
        "mp.show()"
      ],
      "execution_count": 22,
      "outputs": [
        {
          "output_type": "stream",
          "text": [
            "100\n",
            "100\n"
          ],
          "name": "stdout"
        },
        {
          "output_type": "display_data",
          "data": {
            "image/png": "[encoded data removed]",
            "text/plain": [
              "<Figure size 432x288 with 1 Axes>"
            ]
          },
          "metadata": {
            "tags": []
          }
        }
      ]
    },
    {
      "cell_type": "code",
      "metadata": {
        "id": "JcW83k87EasA",
        "colab_type": "code",
        "colab": {}
      },
      "source": [
        "# read test data\n",
        "\n",
        "df = pd.read_csv(\"test.csv\")\n",
        "x_test = df['x']\n",
        "c = df['c']\n",
        "\n",
        "test = []\n",
        "label = []\n",
        "\n",
        "for i in range(0,30):\n",
        "  test.append(x_test[i])\n",
        "  label.append(c[i])\n",
        "\n",
        "# predicting test set data\n",
        "pred = []\n",
        "\n",
        "for i in range(len(x_test)):\n",
        "  if x_test[i] <= 0.125:\n",
        "    pred.append(0.0)\n",
        "  else:\n",
        "    pred.append(1.0)\n",
        "\n",
        "  \n"
      ],
      "execution_count": 0,
      "outputs": []
    },
    {
      "cell_type": "markdown",
      "metadata": {
        "id": "0_fyJcxLISQ9",
        "colab_type": "text"
      },
      "source": [
        "Calculate accuracy score on test set"
      ]
    },
    {
      "cell_type": "code",
      "metadata": {
        "id": "hZ5u0YW0H-Ob",
        "colab_type": "code",
        "colab": {
          "base_uri": "https://localhost:8080/",
          "height": 36
        },
        "outputId": "bd2362d7-68b9-4f84-c9d7-486415c802b6"
      },
      "source": [
        "from sklearn.metrics import accuracy_score\n",
        "\n",
        "print(accuracy_score(label, pred))"
      ],
      "execution_count": 34,
      "outputs": [
        {
          "output_type": "stream",
          "text": [
            "0.8666666666666667\n"
          ],
          "name": "stdout"
        }
      ]
    }
  ]
}