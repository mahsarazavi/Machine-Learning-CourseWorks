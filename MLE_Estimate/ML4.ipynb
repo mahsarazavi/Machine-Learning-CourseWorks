{
  "nbformat": 4,
  "nbformat_minor": 0,
  "metadata": {
    "colab": {
      "name": "ML4.ipynb",
      "provenance": [],
      "collapsed_sections": [],
      "toc_visible": true
    },
    "kernelspec": {
      "name": "python3",
      "display_name": "Python 3"
    }
  },
  "cells": [
    {
      "cell_type": "markdown",
      "metadata": {
        "id": "cFIOk3oM4o43",
        "colab_type": "text"
      },
      "source": [
        "Load data"
      ]
    },
    {
      "cell_type": "code",
      "metadata": {
        "id": "EoYTFnJqucBb",
        "colab_type": "code",
        "colab": {}
      },
      "source": [
        "import numpy as np\n",
        "\n",
        "data = np.load('DiceRolls.npy')\n",
        "\n",
        "numbers = p = [0, 0, 0, 0, 0, 0]"
      ],
      "execution_count": 0,
      "outputs": []
    },
    {
      "cell_type": "code",
      "metadata": {
        "id": "4pg5QKxvyis8",
        "colab_type": "code",
        "colab": {}
      },
      "source": [
        "for i in range(0, 6):\n",
        "  for listt in data:\n",
        "    if listt[i] == 1:\n",
        "      numbers[i] += 1"
      ],
      "execution_count": 0,
      "outputs": []
    },
    {
      "cell_type": "code",
      "metadata": {
        "id": "PzZgZSgszcoz",
        "colab_type": "code",
        "colab": {
          "base_uri": "https://localhost:8080/",
          "height": 130
        },
        "outputId": "42163425-3fed-4541-dba8-4fef17ccaf4d"
      },
      "source": [
        "N = len(data)\n",
        "\n",
        "for i in range(0,6):\n",
        "  p[i] = numbers[i] / N\n",
        "\n",
        "for i in range(0,6):\n",
        "  print(\"probability number \", i+1, \":\", p[i])"
      ],
      "execution_count": 34,
      "outputs": [
        {
          "output_type": "stream",
          "text": [
            "probability number  1 : 0.017\n",
            "probability number  2 : 0.057\n",
            "probability number  3 : 0.202\n",
            "probability number  4 : 0.265\n",
            "probability number  5 : 0.1\n",
            "probability number  6 : 0.359\n"
          ],
          "name": "stdout"
        }
      ]
    }
  ]
}