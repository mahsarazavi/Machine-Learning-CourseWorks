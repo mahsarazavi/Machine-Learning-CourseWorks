{
  "nbformat": 4,
  "nbformat_minor": 0,
  "metadata": {
    "colab": {
      "name": "ML3.ipynb",
      "provenance": []
    },
    "kernelspec": {
      "name": "python3",
      "display_name": "Python 3"
    }
  },
  "cells": [
    {
      "cell_type": "markdown",
      "metadata": {
        "id": "099k55u-sgI1",
        "colab_type": "text"
      },
      "source": [
        "Import necessary libraries"
      ]
    },
    {
      "cell_type": "code",
      "metadata": {
        "id": "sClJnWtWZY0x",
        "colab_type": "code",
        "colab": {}
      },
      "source": [
        "import numpy as np\n",
        "from scipy.stats import norm\n",
        "import matplotlib.pyplot as plt"
      ],
      "execution_count": 0,
      "outputs": []
    },
    {
      "cell_type": "markdown",
      "metadata": {
        "id": "HKTeX6FBtiwk",
        "colab_type": "text"
      },
      "source": [
        "Part a"
      ]
    },
    {
      "cell_type": "code",
      "metadata": {
        "id": "DyfsorI4bejA",
        "colab_type": "code",
        "colab": {}
      },
      "source": [
        "mu = 5\n",
        "sigma = 100\n",
        "means = []\n",
        "list_m = []\n",
        "list_s = []\n",
        "list_n = []\n",
        "plt.show()\n",
        "\n",
        "for size in range(1, 1001):\n",
        "\n",
        "  means = []\n",
        "  for i in range(20):\n",
        "    x = norm.rvs(mu, sigma, size=size)\n",
        "    m = np.mean(x)\n",
        "    means.append(m)\n",
        "  m_new = np.mean(means)\n",
        "  s = np.std(means)\n",
        "  list_s.append(s)\n",
        "  list_m.append(m_new)\n",
        "  list_n.append(size)\n",
        "  "
      ],
      "execution_count": 0,
      "outputs": []
    },
    {
      "cell_type": "markdown",
      "metadata": {
        "id": "kAS6gcAHstXM",
        "colab_type": "text"
      },
      "source": [
        "Ploting the results"
      ]
    },
    {
      "cell_type": "code",
      "metadata": {
        "id": "LPRENYv7etnw",
        "colab_type": "code",
        "colab": {
          "base_uri": "https://localhost:8080/",
          "height": 284
        },
        "outputId": "d92bfddd-794a-4968-8b62-9c1b347ae7cd"
      },
      "source": [
        "m_new = np.mean(means)\n",
        "s = np.std(means)\n",
        "\n",
        "print(m_new, s)\n",
        "plt.plot(list_n, list_m, color=\"b\", label=\"mean\")\n",
        "plt.plot(list_n, list_s, color=\"r\", label= \"variance\")\n",
        "plt.legend(loc='best', frameon=False);\n"
      ],
      "execution_count": 41,
      "outputs": [
        {
          "output_type": "stream",
          "text": [
            "4.7104800889734 2.784699621844589\n"
          ],
          "name": "stdout"
        },
        {
          "output_type": "display_data",
          "data": {
            "image/png": "[encoded data removed]",
            "text/plain": [
              "<Figure size 432x288 with 1 Axes>"
            ]
          },
          "metadata": {
            "tags": []
          }
        }
      ]
    },
    {
      "cell_type": "markdown",
      "metadata": {
        "id": "pnqZXPM5sxis",
        "colab_type": "text"
      },
      "source": [
        "Part b"
      ]
    },
    {
      "cell_type": "code",
      "metadata": {
        "id": "qQ5fXXwLq2mn",
        "colab_type": "code",
        "colab": {}
      },
      "source": [
        "list_m = []\n",
        "list_s = []\n",
        "list_n = []\n",
        "plt.show()\n",
        "\n",
        "for size in range(1, 1001):\n",
        "\n",
        "  variances = []\n",
        "  for i in range(20):\n",
        "    x = norm.rvs(mu, sigma, size=size)\n",
        "    m = np.std(x)\n",
        "    variances.append(m)\n",
        "  m_new = np.mean(variances)\n",
        "  s = np.std(variances)\n",
        "  list_s.append(s)\n",
        "  list_m.append(m_new)\n",
        "  list_n.append(size)\n",
        "  "
      ],
      "execution_count": 0,
      "outputs": []
    },
    {
      "cell_type": "code",
      "metadata": {
        "id": "HQnP-8Zbq5V1",
        "colab_type": "code",
        "colab": {
          "base_uri": "https://localhost:8080/",
          "height": 284
        },
        "outputId": "cb852a7f-b7b9-4e56-e252-60e543cd32cb"
      },
      "source": [
        "m_new = np.mean(means)\n",
        "s = np.std(means)\n",
        "\n",
        "print(m_new, s)\n",
        "plt.plot(list_n, list_m, color=\"b\", label=\"mean\")\n",
        "plt.plot(list_n, list_s, color=\"r\", label= \"variance\")\n",
        "plt.legend(loc='best', frameon=False);\n"
      ],
      "execution_count": 38,
      "outputs": [
        {
          "output_type": "stream",
          "text": [
            "99.95334835984187 2.2971393774460798\n"
          ],
          "name": "stdout"
        },
        {
          "output_type": "display_data",
          "data": {
            "image/png": "[encoded data removed]",
            "text/plain": [
              "<Figure size 432x288 with 1 Axes>"
            ]
          },
          "metadata": {
            "tags": []
          }
        }
      ]
    }
  ]
}