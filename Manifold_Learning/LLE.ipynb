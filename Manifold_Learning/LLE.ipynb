{
  "nbformat": 4,
  "nbformat_minor": 0,
  "metadata": {
    "colab": {
      "name": "HW7-Task3.ipynb",
      "provenance": [],
      "collapsed_sections": []
    },
    "kernelspec": {
      "name": "python3",
      "display_name": "Python 3"
    }
  },
  "cells": [
    {
      "cell_type": "code",
      "metadata": {
        "id": "7mqbVgWDSM49",
        "colab_type": "code",
        "colab": {}
      },
      "source": [
        "import pandas as pd\n",
        "import numpy as np\n",
        "from sklearn.utils import shuffle\n",
        "from matplotlib import pyplot as plt\n",
        "from sklearn.manifold import LocallyLinearEmbedding\n",
        "from sklearn.linear_model import LinearRegression"
      ],
      "execution_count": 0,
      "outputs": []
    },
    {
      "cell_type": "markdown",
      "metadata": {
        "id": "WgHYS5H_2UYD",
        "colab_type": "text"
      },
      "source": [
        "Read csv file"
      ]
    },
    {
      "cell_type": "code",
      "metadata": {
        "id": "R2aGNFnyTCBS",
        "colab_type": "code",
        "colab": {
          "base_uri": "https://localhost:8080/",
          "height": 442
        },
        "outputId": "3c8cadac-5037-4022-95d8-a8d8b2e63edc"
      },
      "source": [
        "data = pd.read_csv(\"SwissRoll.csv\")\n",
        "\n",
        "df = pd.DataFrame(data)\n",
        "\n",
        "split_ratio = 0.2\n",
        "test_size = int(split_ratio * len(data))\n",
        "print(test_size)\n",
        "df"
      ],
      "execution_count": 2,
      "outputs": [
        {
          "output_type": "stream",
          "text": [
            "300\n"
          ],
          "name": "stdout"
        },
        {
          "output_type": "execute_result",
          "data": {
            "text/html": [
              "<div>\n",
              "<style scoped>\n",
              "    .dataframe tbody tr th:only-of-type {\n",
              "        vertical-align: middle;\n",
              "    }\n",
              "\n",
              "    .dataframe tbody tr th {\n",
              "        vertical-align: top;\n",
              "    }\n",
              "\n",
              "    .dataframe thead th {\n",
              "        text-align: right;\n",
              "    }\n",
              "</style>\n",
              "<table border=\"1\" class=\"dataframe\">\n",
              "  <thead>\n",
              "    <tr style=\"text-align: right;\">\n",
              "      <th></th>\n",
              "      <th>x0</th>\n",
              "      <th>x1</th>\n",
              "      <th>x2</th>\n",
              "      <th>color</th>\n",
              "    </tr>\n",
              "  </thead>\n",
              "  <tbody>\n",
              "    <tr>\n",
              "      <th>0</th>\n",
              "      <td>-9.230651</td>\n",
              "      <td>8.968987</td>\n",
              "      <td>-3.151381</td>\n",
              "      <td>9.753774</td>\n",
              "    </tr>\n",
              "    <tr>\n",
              "      <th>1</th>\n",
              "      <td>6.360328</td>\n",
              "      <td>0.646813</td>\n",
              "      <td>1.080954</td>\n",
              "      <td>6.451529</td>\n",
              "    </tr>\n",
              "    <tr>\n",
              "      <th>2</th>\n",
              "      <td>-9.440236</td>\n",
              "      <td>7.225525</td>\n",
              "      <td>-1.833168</td>\n",
              "      <td>9.616578</td>\n",
              "    </tr>\n",
              "    <tr>\n",
              "      <th>3</th>\n",
              "      <td>0.937607</td>\n",
              "      <td>15.360379</td>\n",
              "      <td>-4.814284</td>\n",
              "      <td>4.904736</td>\n",
              "    </tr>\n",
              "    <tr>\n",
              "      <th>4</th>\n",
              "      <td>-6.842105</td>\n",
              "      <td>3.672426</td>\n",
              "      <td>-7.653657</td>\n",
              "      <td>10.266103</td>\n",
              "    </tr>\n",
              "    <tr>\n",
              "      <th>...</th>\n",
              "      <td>...</td>\n",
              "      <td>...</td>\n",
              "      <td>...</td>\n",
              "      <td>...</td>\n",
              "    </tr>\n",
              "    <tr>\n",
              "      <th>1495</th>\n",
              "      <td>-8.649355</td>\n",
              "      <td>7.485054</td>\n",
              "      <td>2.849223</td>\n",
              "      <td>9.106558</td>\n",
              "    </tr>\n",
              "    <tr>\n",
              "      <th>1496</th>\n",
              "      <td>7.080548</td>\n",
              "      <td>16.085379</td>\n",
              "      <td>11.598673</td>\n",
              "      <td>13.589090</td>\n",
              "    </tr>\n",
              "    <tr>\n",
              "      <th>1497</th>\n",
              "      <td>1.389402</td>\n",
              "      <td>4.108676</td>\n",
              "      <td>7.545012</td>\n",
              "      <td>7.671873</td>\n",
              "    </tr>\n",
              "    <tr>\n",
              "      <th>1498</th>\n",
              "      <td>9.813777</td>\n",
              "      <td>3.806556</td>\n",
              "      <td>8.988317</td>\n",
              "      <td>13.307894</td>\n",
              "    </tr>\n",
              "    <tr>\n",
              "      <th>1499</th>\n",
              "      <td>-9.466003</td>\n",
              "      <td>6.513037</td>\n",
              "      <td>-1.457452</td>\n",
              "      <td>9.577545</td>\n",
              "    </tr>\n",
              "  </tbody>\n",
              "</table>\n",
              "<p>1500 rows × 4 columns</p>\n",
              "</div>"
            ],
            "text/plain": [
              "            x0         x1         x2      color\n",
              "0    -9.230651   8.968987  -3.151381   9.753774\n",
              "1     6.360328   0.646813   1.080954   6.451529\n",
              "2    -9.440236   7.225525  -1.833168   9.616578\n",
              "3     0.937607  15.360379  -4.814284   4.904736\n",
              "4    -6.842105   3.672426  -7.653657  10.266103\n",
              "...        ...        ...        ...        ...\n",
              "1495 -8.649355   7.485054   2.849223   9.106558\n",
              "1496  7.080548  16.085379  11.598673  13.589090\n",
              "1497  1.389402   4.108676   7.545012   7.671873\n",
              "1498  9.813777   3.806556   8.988317  13.307894\n",
              "1499 -9.466003   6.513037  -1.457452   9.577545\n",
              "\n",
              "[1500 rows x 4 columns]"
            ]
          },
          "metadata": {
            "tags": []
          },
          "execution_count": 2
        }
      ]
    },
    {
      "cell_type": "code",
      "metadata": {
        "id": "gFoflhxRTNxW",
        "colab_type": "code",
        "colab": {
          "base_uri": "https://localhost:8080/",
          "height": 423
        },
        "outputId": "d95d8f1f-9660-4f62-96d2-fb6b8344f2c1"
      },
      "source": [
        "df = shuffle(df)\n",
        "df"
      ],
      "execution_count": 3,
      "outputs": [
        {
          "output_type": "execute_result",
          "data": {
            "text/html": [
              "<div>\n",
              "<style scoped>\n",
              "    .dataframe tbody tr th:only-of-type {\n",
              "        vertical-align: middle;\n",
              "    }\n",
              "\n",
              "    .dataframe tbody tr th {\n",
              "        vertical-align: top;\n",
              "    }\n",
              "\n",
              "    .dataframe thead th {\n",
              "        text-align: right;\n",
              "    }\n",
              "</style>\n",
              "<table border=\"1\" class=\"dataframe\">\n",
              "  <thead>\n",
              "    <tr style=\"text-align: right;\">\n",
              "      <th></th>\n",
              "      <th>x0</th>\n",
              "      <th>x1</th>\n",
              "      <th>x2</th>\n",
              "      <th>color</th>\n",
              "    </tr>\n",
              "  </thead>\n",
              "  <tbody>\n",
              "    <tr>\n",
              "      <th>94</th>\n",
              "      <td>1.369346</td>\n",
              "      <td>9.643286</td>\n",
              "      <td>7.551444</td>\n",
              "      <td>7.674595</td>\n",
              "    </tr>\n",
              "    <tr>\n",
              "      <th>295</th>\n",
              "      <td>-5.460337</td>\n",
              "      <td>6.733165</td>\n",
              "      <td>6.575400</td>\n",
              "      <td>8.546998</td>\n",
              "    </tr>\n",
              "    <tr>\n",
              "      <th>68</th>\n",
              "      <td>6.202811</td>\n",
              "      <td>8.853026</td>\n",
              "      <td>2.406498</td>\n",
              "      <td>6.653277</td>\n",
              "    </tr>\n",
              "    <tr>\n",
              "      <th>570</th>\n",
              "      <td>8.359911</td>\n",
              "      <td>3.048628</td>\n",
              "      <td>10.558629</td>\n",
              "      <td>13.467470</td>\n",
              "    </tr>\n",
              "    <tr>\n",
              "      <th>157</th>\n",
              "      <td>2.068747</td>\n",
              "      <td>3.204221</td>\n",
              "      <td>-4.691833</td>\n",
              "      <td>5.127671</td>\n",
              "    </tr>\n",
              "    <tr>\n",
              "      <th>...</th>\n",
              "      <td>...</td>\n",
              "      <td>...</td>\n",
              "      <td>...</td>\n",
              "      <td>...</td>\n",
              "    </tr>\n",
              "    <tr>\n",
              "      <th>23</th>\n",
              "      <td>3.315854</td>\n",
              "      <td>13.364507</td>\n",
              "      <td>6.602745</td>\n",
              "      <td>7.388581</td>\n",
              "    </tr>\n",
              "    <tr>\n",
              "      <th>727</th>\n",
              "      <td>5.736332</td>\n",
              "      <td>8.456752</td>\n",
              "      <td>3.770774</td>\n",
              "      <td>6.864710</td>\n",
              "    </tr>\n",
              "    <tr>\n",
              "      <th>823</th>\n",
              "      <td>2.954496</td>\n",
              "      <td>14.082429</td>\n",
              "      <td>-4.404066</td>\n",
              "      <td>5.303287</td>\n",
              "    </tr>\n",
              "    <tr>\n",
              "      <th>485</th>\n",
              "      <td>3.786265</td>\n",
              "      <td>19.944435</td>\n",
              "      <td>-3.955934</td>\n",
              "      <td>5.475876</td>\n",
              "    </tr>\n",
              "    <tr>\n",
              "      <th>790</th>\n",
              "      <td>-8.364695</td>\n",
              "      <td>18.926997</td>\n",
              "      <td>-5.490388</td>\n",
              "      <td>10.005623</td>\n",
              "    </tr>\n",
              "  </tbody>\n",
              "</table>\n",
              "<p>1500 rows × 4 columns</p>\n",
              "</div>"
            ],
            "text/plain": [
              "           x0         x1         x2      color\n",
              "94   1.369346   9.643286   7.551444   7.674595\n",
              "295 -5.460337   6.733165   6.575400   8.546998\n",
              "68   6.202811   8.853026   2.406498   6.653277\n",
              "570  8.359911   3.048628  10.558629  13.467470\n",
              "157  2.068747   3.204221  -4.691833   5.127671\n",
              "..        ...        ...        ...        ...\n",
              "23   3.315854  13.364507   6.602745   7.388581\n",
              "727  5.736332   8.456752   3.770774   6.864710\n",
              "823  2.954496  14.082429  -4.404066   5.303287\n",
              "485  3.786265  19.944435  -3.955934   5.475876\n",
              "790 -8.364695  18.926997  -5.490388  10.005623\n",
              "\n",
              "[1500 rows x 4 columns]"
            ]
          },
          "metadata": {
            "tags": []
          },
          "execution_count": 3
        }
      ]
    },
    {
      "cell_type": "markdown",
      "metadata": {
        "id": "5Q4McdFw2YD6",
        "colab_type": "text"
      },
      "source": [
        "Split data to test and train"
      ]
    },
    {
      "cell_type": "code",
      "metadata": {
        "id": "uwj0-DcETQUD",
        "colab_type": "code",
        "colab": {}
      },
      "source": [
        "test_set = df[:test_size]\n",
        "train_set = df[test_size:]\n",
        "assert len(test_set) + len(train_set) == len(df)\n",
        "\n",
        "y_train = train_set['color'].values\n",
        "x_train = train_set.drop('color', 1)\n",
        "x_train = x_train.values\n",
        "assert len(y_train) == len(x_train) \n",
        "\n",
        "y_test = test_set['color'].values\n",
        "x_test = test_set.drop('color', 1)\n",
        "x_test = x_test.values\n",
        "assert len(y_test) == len(x_test) "
      ],
      "execution_count": 0,
      "outputs": []
    },
    {
      "cell_type": "markdown",
      "metadata": {
        "id": "qOqnmqlw2a_m",
        "colab_type": "text"
      },
      "source": [
        "LDA with 2 components on test set"
      ]
    },
    {
      "cell_type": "code",
      "metadata": {
        "id": "5hgTziIYUQuV",
        "colab_type": "code",
        "colab": {}
      },
      "source": [
        "embedding = LocallyLinearEmbedding(n_components=2)\n",
        "X_transformed = embedding.fit_transform(x_train)\n",
        "x_transformed_test = embedding.transform(x_test)"
      ],
      "execution_count": 0,
      "outputs": []
    },
    {
      "cell_type": "code",
      "metadata": {
        "id": "OJvoweuOTcRc",
        "colab_type": "code",
        "colab": {
          "base_uri": "https://localhost:8080/",
          "height": 297
        },
        "outputId": "476ca2e8-62d1-4cb3-938e-3e53f9de4fe6"
      },
      "source": [
        "plt.xlabel('Component 1')\n",
        "plt.ylabel('Component 2')\n",
        "plt.scatter(\n",
        "    x_transformed_test[:,0],\n",
        "    x_transformed_test[:,1],\n",
        "    c=y_test\n",
        "    \n",
        ")"
      ],
      "execution_count": 17,
      "outputs": [
        {
          "output_type": "execute_result",
          "data": {
            "text/plain": [
              "<matplotlib.collections.PathCollection at 0x7f90b1670780>"
            ]
          },
          "metadata": {
            "tags": []
          },
          "execution_count": 17
        },
        {
          "output_type": "display_data",
          "data": {
            "image/png": "[encoded data removed]",
            "text/plain": [
              "<Figure size 432x288 with 1 Axes>"
            ]
          },
          "metadata": {
            "tags": [],
            "needs_background": "light"
          }
        }
      ]
    },
    {
      "cell_type": "code",
      "metadata": {
        "id": "jJhiVf6ejrJG",
        "colab_type": "code",
        "colab": {
          "base_uri": "https://localhost:8080/",
          "height": 297
        },
        "outputId": "00b97827-5edd-4828-a20e-2e677ff80e90"
      },
      "source": [
        "reg = LinearRegression().fit(x_train, X_transformed)\n",
        "\n",
        "x_transformed_test = reg.predict(x_test)\n",
        "\n",
        "plt.xlabel('Component 1')\n",
        "plt.ylabel('Component 2')\n",
        "plt.scatter(\n",
        "    x_transformed_test[:,0],\n",
        "    x_transformed_test[:,1],\n",
        "    c=y_test  \n",
        ")"
      ],
      "execution_count": 22,
      "outputs": [
        {
          "output_type": "execute_result",
          "data": {
            "text/plain": [
              "<matplotlib.collections.PathCollection at 0x7f90b15e4c88>"
            ]
          },
          "metadata": {
            "tags": []
          },
          "execution_count": 22
        },
        {
          "output_type": "display_data",
          "data": {
            "image/png": "[encoded data removed]",
            "text/plain": [
              "<Figure size 432x288 with 1 Axes>"
            ]
          },
          "metadata": {
            "tags": [],
            "needs_background": "light"
          }
        }
      ]
    }
  ]
}