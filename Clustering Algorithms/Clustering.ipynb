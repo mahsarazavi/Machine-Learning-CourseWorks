{
  "nbformat": 4,
  "nbformat_minor": 0,
  "metadata": {
    "colab": {
      "name": "HW9",
      "provenance": [],
      "collapsed_sections": []
    },
    "kernelspec": {
      "name": "python3",
      "display_name": "Python 3"
    }
  },
  "cells": [
    {
      "cell_type": "markdown",
      "metadata": {
        "id": "LqKCTedeE_lN",
        "colab_type": "text"
      },
      "source": [
        "# Task 1"
      ]
    },
    {
      "cell_type": "code",
      "metadata": {
        "id": "QlwsTEmcygTO",
        "colab_type": "code",
        "outputId": "84b76d49-1166-4e69-f38f-533249f18e97",
        "colab": {
          "base_uri": "https://localhost:8080/",
          "height": 225
        }
      },
      "source": [
        "!pip install metric-learn"
      ],
      "execution_count": 2,
      "outputs": [
        {
          "output_type": "stream",
          "text": [
            "Collecting metric-learn\n",
            "\u001b[?25l  Downloading https://files.pythonhosted.org/packages/30/90/b2f12dc3363dc4d90081df084aad71e9d5f1d933cc9215809def8bf98159/metric_learn-0.5.0-py2.py3-none-any.whl (60kB)\n",
            "\r\u001b[K     |█████▍                          | 10kB 18.6MB/s eta 0:00:01\r\u001b[K     |██████████▊                     | 20kB 1.7MB/s eta 0:00:01\r\u001b[K     |████████████████▏               | 30kB 2.0MB/s eta 0:00:01\r\u001b[K     |█████████████████████▌          | 40kB 1.7MB/s eta 0:00:01\r\u001b[K     |███████████████████████████     | 51kB 1.9MB/s eta 0:00:01\r\u001b[K     |████████████████████████████████| 61kB 1.8MB/s \n",
            "\u001b[?25hRequirement already satisfied: scikit-learn in /usr/local/lib/python3.6/dist-packages (from metric-learn) (0.22.2.post1)\n",
            "Requirement already satisfied: numpy in /usr/local/lib/python3.6/dist-packages (from metric-learn) (1.18.4)\n",
            "Requirement already satisfied: scipy in /usr/local/lib/python3.6/dist-packages (from metric-learn) (1.4.1)\n",
            "Requirement already satisfied: six in /usr/local/lib/python3.6/dist-packages (from metric-learn) (1.12.0)\n",
            "Requirement already satisfied: joblib>=0.11 in /usr/local/lib/python3.6/dist-packages (from scikit-learn->metric-learn) (0.15.1)\n",
            "Installing collected packages: metric-learn\n",
            "Successfully installed metric-learn-0.5.0\n"
          ],
          "name": "stdout"
        }
      ]
    },
    {
      "cell_type": "code",
      "metadata": {
        "id": "N45F6QvfggBw",
        "colab_type": "code",
        "colab": {}
      },
      "source": [
        "from sklearn.neighbors import KNeighborsClassifier\n",
        "import numpy as np\n",
        "from sklearn.metrics import accuracy_score\n",
        "from metric_learn import LMNN\n",
        "from metric_learn import ITML_Supervised\n",
        "from sklearn.model_selection import train_test_split"
      ],
      "execution_count": 0,
      "outputs": []
    },
    {
      "cell_type": "markdown",
      "metadata": {
        "id": "qtTdQCkPjzj1",
        "colab_type": "text"
      },
      "source": [
        "Reading data from txt files"
      ]
    },
    {
      "cell_type": "code",
      "metadata": {
        "id": "fso9HcG8gxJd",
        "colab_type": "code",
        "colab": {}
      },
      "source": [
        "data = []\n",
        "labels = []\n",
        "\n",
        "with open('label.txt') as l:\n",
        "  labels = l.readlines()\n",
        "\n",
        "with open(\"features.txt\") as textFile:\n",
        "    data = [line.split() for line in textFile]\n",
        "\n",
        "x = np.array(data, dtype=float)\n",
        "labels = np.array(labels, dtype=float)"
      ],
      "execution_count": 0,
      "outputs": []
    },
    {
      "cell_type": "code",
      "metadata": {
        "id": "RK6-VF5plsLc",
        "colab_type": "code",
        "outputId": "0cb8ca51-a204-40ef-edb0-1d77794258d5",
        "colab": {
          "base_uri": "https://localhost:8080/",
          "height": 55
        }
      },
      "source": [
        "print(np.shape(x))\n",
        "print(np.shape(labels))"
      ],
      "execution_count": 5,
      "outputs": [
        {
          "output_type": "stream",
          "text": [
            "(6435, 35)\n",
            "(6435,)\n"
          ],
          "name": "stdout"
        }
      ]
    },
    {
      "cell_type": "code",
      "metadata": {
        "id": "lUnQPpzQVDDa",
        "colab_type": "code",
        "colab": {
          "base_uri": "https://localhost:8080/",
          "height": 55
        },
        "outputId": "cadf4084-4fee-477c-b517-b0153f59e1c5"
      },
      "source": [
        "X_train, X_test, y_train, y_test = train_test_split(x, labels, test_size=0.3, random_state=42)\n",
        "\n",
        "print(np.shape(X_train))\n",
        "print(np.shape(y_train))"
      ],
      "execution_count": 6,
      "outputs": [
        {
          "output_type": "stream",
          "text": [
            "(4504, 35)\n",
            "(4504,)\n"
          ],
          "name": "stdout"
        }
      ]
    },
    {
      "cell_type": "markdown",
      "metadata": {
        "id": "YCz_9tlTkHXM",
        "colab_type": "text"
      },
      "source": [
        "KNN on data euclid distance"
      ]
    },
    {
      "cell_type": "code",
      "metadata": {
        "id": "wDej30qbkHEe",
        "colab_type": "code",
        "outputId": "bf74a23a-c2f1-46b2-9bf8-e56b9612a550",
        "colab": {
          "base_uri": "https://localhost:8080/",
          "height": 36
        }
      },
      "source": [
        "knn = KNeighborsClassifier(n_neighbors=5)\n",
        "\n",
        "knn.fit(X_train, y_train)\n",
        "\n",
        "y_pred = knn.predict(X_test)\n",
        "print(accuracy_score(y_pred, y_test))"
      ],
      "execution_count": 8,
      "outputs": [
        {
          "output_type": "stream",
          "text": [
            "0.8964267219057483\n"
          ],
          "name": "stdout"
        }
      ]
    },
    {
      "cell_type": "markdown",
      "metadata": {
        "id": "30vavgLk9_4l",
        "colab_type": "text"
      },
      "source": [
        "LMNN"
      ]
    },
    {
      "cell_type": "code",
      "metadata": {
        "id": "TcX4TbxxwjAR",
        "colab_type": "code",
        "outputId": "15264397-bc48-40ed-dccf-b059789ea031",
        "colab": {
          "base_uri": "https://localhost:8080/",
          "height": 93
        }
      },
      "source": [
        "k = 5\n",
        "lmnn = LMNN(k=5, learn_rate=1e-6)\n",
        "\n",
        "lmnn.fit(X_train, y_train)\n",
        "lmnn_distance = lmnn.get_metric()\n",
        "\n",
        "knn = KNeighborsClassifier(k, metric=lmnn_distance)\n",
        "knn.fit(X_train, y_train)\n",
        "labels_predict = knn.predict(X_test)\n",
        "\n",
        "print(accuracy_score(labels_predict, y_test))"
      ],
      "execution_count": 9,
      "outputs": [
        {
          "output_type": "stream",
          "text": [
            "/usr/local/lib/python3.6/dist-packages/metric_learn/lmnn.py:207: ChangedBehaviorWarning: Warning, no init was set (`init=None`). As of version 0.5.0, the default init will now be set to 'auto', instead of the previous identity matrix. If you still want to use the identity matrix as before, set init='identity'. This warning will disappear in v0.6.0, and `init` parameter's default value will be set to 'auto'.\n",
            "  warnings.warn(msg, ChangedBehaviorWarning)\n"
          ],
          "name": "stderr"
        },
        {
          "output_type": "stream",
          "text": [
            "0.8995339202485758\n"
          ],
          "name": "stdout"
        }
      ]
    },
    {
      "cell_type": "markdown",
      "metadata": {
        "id": "zrYYMdhV-ClZ",
        "colab_type": "text"
      },
      "source": [
        "ITML"
      ]
    },
    {
      "cell_type": "code",
      "metadata": {
        "id": "zEZl6bl-4jen",
        "colab_type": "code",
        "outputId": "30d3fa4b-c20c-4bb1-bf73-8279871cc8de",
        "colab": {
          "base_uri": "https://localhost:8080/",
          "height": 131
        }
      },
      "source": [
        "itml = ITML_Supervised()\n",
        "itml.fit(X_train, y_train)\n",
        "\n",
        "knn = KNeighborsClassifier(k, metric=itml.get_metric())\n",
        "knn.fit(X_train, y_train)\n",
        "labels_predict = knn.predict(X_test)\n",
        "\n",
        "print(accuracy_score(labels_predict, y_test))"
      ],
      "execution_count": 10,
      "outputs": [
        {
          "output_type": "stream",
          "text": [
            "/usr/local/lib/python3.6/dist-packages/metric_learn/itml.py:403: ChangedBehaviorWarning: As of v0.5.0, `ITML_Supervised` now uses the `random_state` given at initialization to sample constraints, not the default `np.random` from the `fit` method, since this argument is now deprecated. This warning will disappear in v0.6.0.\n",
            "  ChangedBehaviorWarning)\n",
            "/usr/local/lib/python3.6/dist-packages/metric_learn/itml.py:45: FutureWarning: arrays to stack must be passed as a \"sequence\" type such as list or tuple. Support for non-sequence iterables such as generators is deprecated as of NumPy 1.16 and will raise an error in the future.\n",
            "  X = np.vstack({tuple(row) for row in pairs.reshape(-1, pairs.shape[2])})\n"
          ],
          "name": "stderr"
        },
        {
          "output_type": "stream",
          "text": [
            "0.8291040911444847\n"
          ],
          "name": "stdout"
        }
      ]
    },
    {
      "cell_type": "markdown",
      "metadata": {
        "id": "wu4aBDVgE8cr",
        "colab_type": "text"
      },
      "source": [
        "# Task 2"
      ]
    },
    {
      "cell_type": "code",
      "metadata": {
        "id": "KW7YshV0Cn02",
        "colab_type": "code",
        "colab": {}
      },
      "source": [
        "from sklearn.neighbors import LocalOutlierFactor\n",
        "from sklearn.ensemble import IsolationForest\n",
        "import pandas as pd"
      ],
      "execution_count": 0,
      "outputs": []
    },
    {
      "cell_type": "markdown",
      "metadata": {
        "id": "mDXgmPqdFEem",
        "colab_type": "text"
      },
      "source": [
        "Reading data"
      ]
    },
    {
      "cell_type": "code",
      "metadata": {
        "id": "ju9xUO87CosE",
        "colab_type": "code",
        "outputId": "db6702ff-9e3d-4a7f-ae7b-09994abd5446",
        "colab": {
          "base_uri": "https://localhost:8080/",
          "height": 36
        }
      },
      "source": [
        "train = pd.read_csv(\"outlier_detection_dataset.csv\")\n",
        "\n",
        "print(np.shape(train))"
      ],
      "execution_count": 0,
      "outputs": [
        {
          "output_type": "stream",
          "text": [
            "(256669, 4)\n"
          ],
          "name": "stdout"
        }
      ]
    },
    {
      "cell_type": "markdown",
      "metadata": {
        "id": "CSJ7UFuhFGJF",
        "colab_type": "text"
      },
      "source": [
        "LOF method"
      ]
    },
    {
      "cell_type": "code",
      "metadata": {
        "id": "FYtP2cgqDAr7",
        "colab_type": "code",
        "outputId": "313b5c77-5293-4fc0-9fdb-7a617894e0ef",
        "colab": {
          "base_uri": "https://localhost:8080/",
          "height": 55
        }
      },
      "source": [
        "clf = LocalOutlierFactor(n_neighbors=2)\n",
        "preds = clf.fit_predict(train)\n",
        "\n",
        "normal = train[preds == 1]\n",
        "outlier = train[preds == -1]\n",
        "\n",
        "print(len(outlier), \"Outlier Data\")\n",
        "print(len(normal), \" Normal Data\")\n",
        "\n",
        "assert len(normal) + len(outlier == len(train))"
      ],
      "execution_count": 0,
      "outputs": [
        {
          "output_type": "stream",
          "text": [
            "44893 Outlier Data\n",
            "211776  Normal Data\n"
          ],
          "name": "stdout"
        }
      ]
    },
    {
      "cell_type": "markdown",
      "metadata": {
        "id": "WmCOuxnoFIMw",
        "colab_type": "text"
      },
      "source": [
        "Isolation Forest method"
      ]
    },
    {
      "cell_type": "code",
      "metadata": {
        "id": "Wp-Z5XIVEcpF",
        "colab_type": "code",
        "outputId": "3d14599c-ab78-4ff2-ff53-afd72877a978",
        "colab": {
          "base_uri": "https://localhost:8080/",
          "height": 55
        }
      },
      "source": [
        "clf = IsolationForest(random_state=0).fit(train)\n",
        "\n",
        "pred = clf.fit_predict(train)\n",
        "\n",
        "normal = train[pred == 1]\n",
        "outlier = train[pred == -1]\n",
        "\n",
        "print(len(outlier), \"Outlier Data\")\n",
        "print(len(normal), \" Normal Data\")\n",
        "\n",
        "assert len(normal) + len(outlier == len(train))"
      ],
      "execution_count": 0,
      "outputs": [
        {
          "output_type": "stream",
          "text": [
            "25242 Outlier Data\n",
            "231427  Normal Data\n"
          ],
          "name": "stdout"
        }
      ]
    }
  ]
}